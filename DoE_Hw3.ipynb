{
 "cells": [
  {
   "cell_type": "markdown",
   "metadata": {},
   "source": [
    "# Design of Experiments Homework 3\n",
    "\n",
    "> $$Abstract$$\n",
    "> This note is created to mark the second homework of DoE.   \n",
    "> The problems are from the book \"*Design of Experiments*\" by Douglas C. Montgomery, with solutions completed by myself with applications of *Python* and *R*."
   ]
  },
  {
   "cell_type": "markdown",
   "metadata": {},
   "source": [
    "## 4.8\n",
    ">   A consumer products company relies on direct mail marketing pieces as a major component of its advertising campaigns. The company has three different designs for a new brochure and wants to evaluate their effectiveness, as there are substantial differences in costs between the three designs. The company decides to test the three designs by mailing 5000 samples of each to potential customers in four different regions of the country. Since there are known regional differences in the customer base,regions are considered as blocks. The number of responses to each mailing is as follows.\n",
    "> ***\n",
    ">$$\\text{Table is Shown Below}$$\n",
    "> ***\n",
    "> - (a) Analyze the data from this experiment.\n",
    "> - (b) Use the Fisher LSD method to make comparisons among the three designs to determine specificallywhich designs differ in the mean response rate. \n",
    "> - (c) Analyze the residuals from this experiment.\n"
   ]
  },
  {
   "cell_type": "markdown",
   "metadata": {
    "vscode": {
     "languageId": "r"
    }
   },
   "source": [
    "250 350 219 375\\\\\n",
    "400 525 390 580\\\\\n",
    "275 340 200 310\n"
   ]
  },
  {
   "cell_type": "markdown",
   "metadata": {},
   "source": [
    "Fisrt of all we use Python for data gaining."
   ]
  },
  {
   "cell_type": "code",
   "execution_count": null,
   "metadata": {},
   "outputs": [],
   "source": [
    "import pandas as pd\n",
    "import numpy as np"
   ]
  },
  {
   "cell_type": "code",
   "execution_count": null,
   "metadata": {},
   "outputs": [],
   "source": [
    "data = np.array([250, 350, 219, 375, \n",
    "400, 525, 390, 580, \n",
    "275, 340, 200, 310])"
   ]
  },
  {
   "cell_type": "code",
   "execution_count": null,
   "metadata": {},
   "outputs": [],
   "source": [
    "treatments = np.array([1,1,1,1,2,2,2,2,3,3,3,3])\n",
    "blocks = np.array([1,2,3,4,1,2,3,4,1,2,3,4])"
   ]
  },
  {
   "cell_type": "code",
   "execution_count": null,
   "metadata": {},
   "outputs": [],
   "source": [
    "X = np.vstack((treatments, blocks, data.T))\n"
   ]
  },
  {
   "cell_type": "code",
   "execution_count": null,
   "metadata": {},
   "outputs": [
    {
     "data": {
      "text/plain": [
       "array([[  1,   1,   1,   1,   2,   2,   2,   2,   3,   3,   3,   3],\n",
       "       [  1,   2,   3,   4,   1,   2,   3,   4,   1,   2,   3,   4],\n",
       "       [250, 350, 219, 375, 400, 525, 390, 580, 275, 340, 200, 310]])"
      ]
     },
     "execution_count": 7,
     "metadata": {},
     "output_type": "execute_result"
    }
   ],
   "source": [
    "X"
   ]
  },
  {
   "cell_type": "code",
   "execution_count": null,
   "metadata": {},
   "outputs": [],
   "source": [
    "X = pd.DataFrame(X.T, columns=['treatments', 'blocks', 'data'])"
   ]
  },
  {
   "cell_type": "code",
   "execution_count": null,
   "metadata": {},
   "outputs": [
    {
     "data": {
      "text/html": [
       "<div>\n",
       "<style scoped>\n",
       "    .dataframe tbody tr th:only-of-type {\n",
       "        vertical-align: middle;\n",
       "    }\n",
       "\n",
       "    .dataframe tbody tr th {\n",
       "        vertical-align: top;\n",
       "    }\n",
       "\n",
       "    .dataframe thead th {\n",
       "        text-align: right;\n",
       "    }\n",
       "</style>\n",
       "<table border=\"1\" class=\"dataframe\">\n",
       "  <thead>\n",
       "    <tr style=\"text-align: right;\">\n",
       "      <th></th>\n",
       "      <th>treatments</th>\n",
       "      <th>blocks</th>\n",
       "      <th>data</th>\n",
       "    </tr>\n",
       "  </thead>\n",
       "  <tbody>\n",
       "    <tr>\n",
       "      <th>0</th>\n",
       "      <td>1</td>\n",
       "      <td>1</td>\n",
       "      <td>250</td>\n",
       "    </tr>\n",
       "    <tr>\n",
       "      <th>1</th>\n",
       "      <td>1</td>\n",
       "      <td>2</td>\n",
       "      <td>350</td>\n",
       "    </tr>\n",
       "    <tr>\n",
       "      <th>2</th>\n",
       "      <td>1</td>\n",
       "      <td>3</td>\n",
       "      <td>219</td>\n",
       "    </tr>\n",
       "    <tr>\n",
       "      <th>3</th>\n",
       "      <td>1</td>\n",
       "      <td>4</td>\n",
       "      <td>375</td>\n",
       "    </tr>\n",
       "    <tr>\n",
       "      <th>4</th>\n",
       "      <td>2</td>\n",
       "      <td>1</td>\n",
       "      <td>400</td>\n",
       "    </tr>\n",
       "    <tr>\n",
       "      <th>5</th>\n",
       "      <td>2</td>\n",
       "      <td>2</td>\n",
       "      <td>525</td>\n",
       "    </tr>\n",
       "    <tr>\n",
       "      <th>6</th>\n",
       "      <td>2</td>\n",
       "      <td>3</td>\n",
       "      <td>390</td>\n",
       "    </tr>\n",
       "    <tr>\n",
       "      <th>7</th>\n",
       "      <td>2</td>\n",
       "      <td>4</td>\n",
       "      <td>580</td>\n",
       "    </tr>\n",
       "    <tr>\n",
       "      <th>8</th>\n",
       "      <td>3</td>\n",
       "      <td>1</td>\n",
       "      <td>275</td>\n",
       "    </tr>\n",
       "    <tr>\n",
       "      <th>9</th>\n",
       "      <td>3</td>\n",
       "      <td>2</td>\n",
       "      <td>340</td>\n",
       "    </tr>\n",
       "    <tr>\n",
       "      <th>10</th>\n",
       "      <td>3</td>\n",
       "      <td>3</td>\n",
       "      <td>200</td>\n",
       "    </tr>\n",
       "    <tr>\n",
       "      <th>11</th>\n",
       "      <td>3</td>\n",
       "      <td>4</td>\n",
       "      <td>310</td>\n",
       "    </tr>\n",
       "  </tbody>\n",
       "</table>\n",
       "</div>"
      ],
      "text/plain": [
       "    treatments  blocks  data\n",
       "0            1       1   250\n",
       "1            1       2   350\n",
       "2            1       3   219\n",
       "3            1       4   375\n",
       "4            2       1   400\n",
       "5            2       2   525\n",
       "6            2       3   390\n",
       "7            2       4   580\n",
       "8            3       1   275\n",
       "9            3       2   340\n",
       "10           3       3   200\n",
       "11           3       4   310"
      ]
     },
     "execution_count": 9,
     "metadata": {},
     "output_type": "execute_result"
    }
   ],
   "source": [
    "X"
   ]
  },
  {
   "cell_type": "code",
   "execution_count": null,
   "metadata": {},
   "outputs": [],
   "source": [
    "X.to_csv('example4.8.csv', index= False)"
   ]
  },
  {
   "cell_type": "markdown",
   "metadata": {},
   "source": [
    "接下来换成R"
   ]
  },
  {
   "cell_type": "markdown",
   "metadata": {},
   "source": [
    "### (a)\n",
    "> Analyze the data from this experiment."
   ]
  },
  {
   "cell_type": "code",
   "execution_count": null,
   "metadata": {},
   "outputs": [],
   "source": [
    "X = read.csv('example4.8.csv')"
   ]
  },
  {
   "cell_type": "code",
   "execution_count": null,
   "metadata": {},
   "outputs": [
    {
     "data": {
      "text/html": [
       "<table class=\"dataframe\">\n",
       "<caption>A data.frame: 12 × 3</caption>\n",
       "<thead>\n",
       "\t<tr><th scope=col>treatments</th><th scope=col>blocks</th><th scope=col>data</th></tr>\n",
       "\t<tr><th scope=col>&lt;int&gt;</th><th scope=col>&lt;int&gt;</th><th scope=col>&lt;int&gt;</th></tr>\n",
       "</thead>\n",
       "<tbody>\n",
       "\t<tr><td>1</td><td>1</td><td>250</td></tr>\n",
       "\t<tr><td>1</td><td>2</td><td>350</td></tr>\n",
       "\t<tr><td>1</td><td>3</td><td>219</td></tr>\n",
       "\t<tr><td>1</td><td>4</td><td>375</td></tr>\n",
       "\t<tr><td>2</td><td>1</td><td>400</td></tr>\n",
       "\t<tr><td>2</td><td>2</td><td>525</td></tr>\n",
       "\t<tr><td>2</td><td>3</td><td>390</td></tr>\n",
       "\t<tr><td>2</td><td>4</td><td>580</td></tr>\n",
       "\t<tr><td>3</td><td>1</td><td>275</td></tr>\n",
       "\t<tr><td>3</td><td>2</td><td>340</td></tr>\n",
       "\t<tr><td>3</td><td>3</td><td>200</td></tr>\n",
       "\t<tr><td>3</td><td>4</td><td>310</td></tr>\n",
       "</tbody>\n",
       "</table>\n"
      ],
      "text/latex": [
       "A data.frame: 12 × 3\n",
       "\\begin{tabular}{lll}\n",
       " treatments & blocks & data\\\\\n",
       " <int> & <int> & <int>\\\\\n",
       "\\hline\n",
       "\t 1 & 1 & 250\\\\\n",
       "\t 1 & 2 & 350\\\\\n",
       "\t 1 & 3 & 219\\\\\n",
       "\t 1 & 4 & 375\\\\\n",
       "\t 2 & 1 & 400\\\\\n",
       "\t 2 & 2 & 525\\\\\n",
       "\t 2 & 3 & 390\\\\\n",
       "\t 2 & 4 & 580\\\\\n",
       "\t 3 & 1 & 275\\\\\n",
       "\t 3 & 2 & 340\\\\\n",
       "\t 3 & 3 & 200\\\\\n",
       "\t 3 & 4 & 310\\\\\n",
       "\\end{tabular}\n"
      ],
      "text/markdown": [
       "\n",
       "A data.frame: 12 × 3\n",
       "\n",
       "| treatments &lt;int&gt; | blocks &lt;int&gt; | data &lt;int&gt; |\n",
       "|---|---|---|\n",
       "| 1 | 1 | 250 |\n",
       "| 1 | 2 | 350 |\n",
       "| 1 | 3 | 219 |\n",
       "| 1 | 4 | 375 |\n",
       "| 2 | 1 | 400 |\n",
       "| 2 | 2 | 525 |\n",
       "| 2 | 3 | 390 |\n",
       "| 2 | 4 | 580 |\n",
       "| 3 | 1 | 275 |\n",
       "| 3 | 2 | 340 |\n",
       "| 3 | 3 | 200 |\n",
       "| 3 | 4 | 310 |\n",
       "\n"
      ],
      "text/plain": [
       "   treatments blocks data\n",
       "1  1          1      250 \n",
       "2  1          2      350 \n",
       "3  1          3      219 \n",
       "4  1          4      375 \n",
       "5  2          1      400 \n",
       "6  2          2      525 \n",
       "7  2          3      390 \n",
       "8  2          4      580 \n",
       "9  3          1      275 \n",
       "10 3          2      340 \n",
       "11 3          3      200 \n",
       "12 3          4      310 "
      ]
     },
     "metadata": {},
     "output_type": "display_data"
    }
   ],
   "source": [
    "X"
   ]
  },
  {
   "cell_type": "code",
   "execution_count": null,
   "metadata": {},
   "outputs": [
    {
     "data": {
      "text/plain": [
       "                   Df Sum Sq Mean Sq F value  Pr(>F)    \n",
       "factor(treatments)  2  90755   45378   50.15 0.00018 ***\n",
       "factor(blocks)      3  49036   16345   18.07 0.00208 ** \n",
       "Residuals           6   5429     905                    \n",
       "---\n",
       "Signif. codes:  0 '***' 0.001 '**' 0.01 '*' 0.05 '.' 0.1 ' ' 1"
      ]
     },
     "metadata": {},
     "output_type": "display_data"
    }
   ],
   "source": [
    "X_aov = aov(data~ factor(treatments)+ factor(blocks), X)\n",
    "summary(X_aov)"
   ]
  },
  {
   "cell_type": "markdown",
   "metadata": {
    "vscode": {
     "languageId": "r"
    }
   },
   "source": [
    "We get the result of ANOVA."
   ]
  },
  {
   "cell_type": "markdown",
   "metadata": {
    "vscode": {
     "languageId": "r"
    }
   },
   "source": [
    "Here the $F_0$ is 50.15."
   ]
  },
  {
   "cell_type": "markdown",
   "metadata": {},
   "source": [
    "$切Python$"
   ]
  },
  {
   "cell_type": "code",
   "execution_count": null,
   "metadata": {},
   "outputs": [
    {
     "data": {
      "text/plain": [
       "145240"
      ]
     },
     "execution_count": 1,
     "metadata": {},
     "output_type": "execute_result"
    }
   ],
   "source": [
    "90775+ 49036+ 5429"
   ]
  },
  {
   "cell_type": "markdown",
   "metadata": {},
   "source": [
    "***\n",
    "方差来源 | 平方和 | 自由度 | 均方 | $F_0$ | p值\n",
    "***\n",
    "Treatment | 90775 | 2 | 45378 | **50.15** <br>\n",
    "blocks | 49036 | 3 | 16345 | <br>\n",
    "error | 5429 | 6 | 905 | <br>\n",
    "total | 145240 | 11 |<br>"
   ]
  },
  {
   "cell_type": "markdown",
   "metadata": {},
   "source": [
    "Hypothesis testing:<br>\n",
    "$$\n",
    "H_0: \\mu_1 = \\mu_2= \\mu_3 \\quad vs\\quad H_1: not\\space H_0\n",
    "$$\n",
    "At the level of $99\\% >p \\space value$, we can reject $H_0$.<br>\n",
    "There's some difference."
   ]
  },
  {
   "cell_type": "markdown",
   "metadata": {},
   "source": [
    "### (b)\n",
    "> Use the Fisher LSD method to make comparisons among the three designs to determine specifically which designs differ in the mean response rate."
   ]
  },
  {
   "cell_type": "code",
   "execution_count": 1,
   "metadata": {},
   "outputs": [],
   "source": [
    "import numpy as np"
   ]
  },
  {
   "cell_type": "code",
   "execution_count": 2,
   "metadata": {},
   "outputs": [],
   "source": [
    "data = np.array([[250, 350, 219, 375],\n",
    "                 [400, 525, 390, 580],\n",
    "                 [275, 340, 200, 310]])"
   ]
  },
  {
   "cell_type": "code",
   "execution_count": 4,
   "metadata": {},
   "outputs": [
    {
     "data": {
      "text/plain": [
       "array([298.5 , 473.75, 281.25])"
      ]
     },
     "execution_count": 4,
     "metadata": {},
     "output_type": "execute_result"
    }
   ],
   "source": [
    "X_bar = data.mean(axis=1)\n",
    "X_bar"
   ]
  },
  {
   "cell_type": "markdown",
   "metadata": {},
   "source": [
    "Hypothesis testing:<br>\n",
    "$$\n",
    "H_0: \\mu_i = \\mu_j \\quad vs\\quad H_1: \\mu_i \\neq \\mu_j\n",
    "$$<br>\n",
    "for $i,j = 1,2,3$"
   ]
  },
  {
   "cell_type": "markdown",
   "metadata": {},
   "source": [
    "We get $\\bar{x}_{1.}, \\bar{x}_{2.} \\bar{x}_{3.}$<br>\n",
    "$LSD= t_{\\alpha /2, N-a}$"
   ]
  },
  {
   "cell_type": "code",
   "execution_count": 5,
   "metadata": {},
   "outputs": [],
   "source": [
    "from scipy import stats"
   ]
  },
  {
   "cell_type": "code",
   "execution_count": 6,
   "metadata": {},
   "outputs": [],
   "source": [
    "MSE = 905\n",
    "alpha = 0.1\n",
    "LSD = stats.t.ppf(1-alpha/2, 6)*np.sqrt(MSE*(1/4+1/4))"
   ]
  },
  {
   "cell_type": "code",
   "execution_count": 7,
   "metadata": {},
   "outputs": [
    {
     "data": {
      "text/plain": [
       "41.33542300441094"
      ]
     },
     "execution_count": 7,
     "metadata": {},
     "output_type": "execute_result"
    }
   ],
   "source": [
    "LSD"
   ]
  },
  {
   "cell_type": "markdown",
   "metadata": {},
   "source": [
    "#### $i,j = 1, 2$"
   ]
  },
  {
   "cell_type": "code",
   "execution_count": 8,
   "metadata": {},
   "outputs": [
    {
     "data": {
      "text/plain": [
       "True"
      ]
     },
     "execution_count": 8,
     "metadata": {},
     "output_type": "execute_result"
    }
   ],
   "source": [
    "np.abs(X_bar[0]-X_bar[1]) > LSD"
   ]
  },
  {
   "cell_type": "markdown",
   "metadata": {},
   "source": [
    "#### $i,j = 1, 3$"
   ]
  },
  {
   "cell_type": "code",
   "execution_count": 9,
   "metadata": {},
   "outputs": [
    {
     "data": {
      "text/plain": [
       "False"
      ]
     },
     "execution_count": 9,
     "metadata": {},
     "output_type": "execute_result"
    }
   ],
   "source": [
    "np.abs(X_bar[0]-X_bar[2]) > LSD"
   ]
  },
  {
   "cell_type": "markdown",
   "metadata": {},
   "source": [
    "#### $i,j = 2, 3$"
   ]
  },
  {
   "cell_type": "code",
   "execution_count": 10,
   "metadata": {},
   "outputs": [
    {
     "data": {
      "text/plain": [
       "True"
      ]
     },
     "execution_count": 10,
     "metadata": {},
     "output_type": "execute_result"
    }
   ],
   "source": [
    "np.abs(X_bar[2]-X_bar[1]) > LSD"
   ]
  },
  {
   "cell_type": "markdown",
   "metadata": {},
   "source": [
    "Now we reject $H_0$ for $i,j = 1, 2\\space and \\space i,j = 2, 3$.<br>\n",
    "At the confidence level of 90%, we can say that \n",
    "$$\n",
    "\\mu_1 \\neq \\mu_2 \\quad and \\quad \\mu_2 \\neq \\mu_3\n",
    "$$"
   ]
  },
  {
   "cell_type": "markdown",
   "metadata": {},
   "source": [
    "### (c)"
   ]
  },
  {
   "cell_type": "markdown",
   "metadata": {},
   "source": [
    "> Analyze the residuals from this experiment"
   ]
  },
  {
   "cell_type": "code",
   "execution_count": null,
   "metadata": {},
   "outputs": [],
   "source": [
    "X = data"
   ]
  },
  {
   "cell_type": "code",
   "execution_count": null,
   "metadata": {},
   "outputs": [
    {
     "data": {
      "text/plain": [
       "array([[250, 350, 219, 375],\n",
       "       [400, 525, 390, 580],\n",
       "       [275, 340, 200, 310]])"
      ]
     },
     "execution_count": 24,
     "metadata": {},
     "output_type": "execute_result"
    }
   ],
   "source": [
    "X"
   ]
  },
  {
   "cell_type": "code",
   "execution_count": null,
   "metadata": {},
   "outputs": [],
   "source": [
    "X_mean = X.mean(axis=1)"
   ]
  },
  {
   "cell_type": "code",
   "execution_count": null,
   "metadata": {},
   "outputs": [],
   "source": [
    "residuals_1 = X[0]-X_mean[0]\n",
    "residuals_2 = X[1]-X_mean[1]\n",
    "residuals_3 = X[2]-X_mean[2]\n",
    "\n",
    "residual_all = np.concatenate((residuals_1, residuals_2, residuals_3))"
   ]
  },
  {
   "cell_type": "markdown",
   "metadata": {},
   "source": [
    "#### Normality"
   ]
  },
  {
   "cell_type": "code",
   "execution_count": null,
   "metadata": {},
   "outputs": [],
   "source": [
    "residuals = np.concatenate((residuals_1, residuals_2, residuals_3))"
   ]
  },
  {
   "cell_type": "code",
   "execution_count": null,
   "metadata": {},
   "outputs": [
    {
     "data": {
      "text/plain": [
       "((array([-1.58815464, -1.09814975, -0.78255927, -0.53069113, -0.30892353,\n",
       "         -0.101534  ,  0.101534  ,  0.30892353,  0.53069113,  0.78255927,\n",
       "          1.09814975,  1.58815464]),\n",
       "  array([-83.75, -81.25, -79.5 , -73.75, -48.5 ,  -6.25,  28.75,  51.25,\n",
       "          51.5 ,  58.75,  76.5 , 106.25])),\n",
       " (72.3368699108162, 2.677001950143428e-15, 0.953134231513351))"
      ]
     },
     "execution_count": 34,
     "metadata": {},
     "output_type": "execute_result"
    },
    {
     "data": {
      "image/png": "[encoded data removed]",
      "text/plain": [
       "<Figure size 640x480 with 1 Axes>"
      ]
     },
     "metadata": {},
     "output_type": "display_data"
    }
   ],
   "source": [
    "import matplotlib.pyplot as plt\n",
    "stats.probplot(residual_all, plot = plt)"
   ]
  },
  {
   "cell_type": "code",
   "execution_count": null,
   "metadata": {},
   "outputs": [
    {
     "data": {
      "image/png": "[encoded data removed]",
      "text/plain": [
       "plot without title"
      ]
     },
     "metadata": {
      "image/png": {
       "height": 420,
       "width": 420
      }
     },
     "output_type": "display_data"
    }
   ],
   "source": [
    "X_aov_res = residuals(X_aov)\n",
    "X_aov_fitted = fitted.values(X_aov)\n",
    "\n",
    "plot(X_aov_fitted, X_aov_res, \n",
    "xlab = \"Fitted\", ylab = \"Residuals\", pch = 0)\n",
    "abline(h = 0)"
   ]
  },
  {
   "cell_type": "code",
   "execution_count": null,
   "metadata": {},
   "outputs": [
    {
     "data": {
      "image/png": "[encoded data removed]",
      "text/plain": [
       "plot without title"
      ]
     },
     "metadata": {
      "image/png": {
       "height": 420,
       "width": 420
      }
     },
     "output_type": "display_data"
    }
   ],
   "source": [
    "plot(as.numeric(X$blocks), X_aov_res,\n",
    " xlab = \"Batch of raw material(block)\", ylab = \"Residuals\", pch = 0)\n",
    "abline(h = 0)"
   ]
  },
  {
   "cell_type": "markdown",
   "metadata": {},
   "source": [
    "We can not find certain pattern of the plot."
   ]
  },
  {
   "cell_type": "markdown",
   "metadata": {},
   "source": [
    "## 4.12"
   ]
  },
  {
   "cell_type": "markdown",
   "metadata": {},
   "source": [
    ">  4.12. An article in Nature Genetics (2003,Vol. 34, pp.\n",
    " 85–90) “Treatment-Specific Changes in Gene Expression\n",
    " Discriminate in vivo Drug Response in Human Leukemia\n",
    " Cells”studied gene expression as a function of different treat\n",
    "ments for leukemia. Three treatment groups are:mercaptop\n",
    "urine (MP) only; low-dose methotrexate (LDMTX) and MP;\n",
    " and high-dose methotrexate (HDMTX) and MP. Each group\n",
    " contained ten subjects. The responses from a specific gene are\n",
    " shown in the table below.\n",
    "\n",
    " > - (a) Is there evidence to support the claim that the treat\n",
    "ment means differ?\n",
    "\n",
    " > - (b) Check the normality assumption. Can we assume\n",
    " these samples are from normal populations?\n",
    "\n",
    " > - (c) Take the logarithm of the raw data. Is there evidence to\n",
    " support the claim that the treatment means differ for\n",
    " the transformed data? \n",
    " \n",
    "> - (d) Analyze the residuals from the transformed data and\n",
    " comment on model adequacy"
   ]
  },
  {
   "cell_type": "code",
   "execution_count": null,
   "metadata": {},
   "outputs": [],
   "source": [
    "import pandas as pd\n",
    "import numpy as np"
   ]
  },
  {
   "cell_type": "code",
   "execution_count": null,
   "metadata": {},
   "outputs": [],
   "source": [
    "x1 = '334.5 31.6 701 41.2 61.2 69.6 67.5 66.6 120.7 881.9'.split()\n",
    "x1 = [float(x) for x in x1]\n",
    "\n",
    "x2 = '919.4 404.2 1024.8 54.1 62.8 671.6 882.1 354.2 321.9 91.1'.split()\n",
    "x2 = [float(x) for x in x2]\n",
    "\n",
    "x3 = '108.4 26.1 240.8 191.1 69.7 242.8 62.7 396.9 23.6 290.4'.split()\n",
    "x3 = [float(x) for x in x3]"
   ]
  },
  {
   "cell_type": "code",
   "execution_count": null,
   "metadata": {},
   "outputs": [
    {
     "data": {
      "text/plain": [
       "array([[ 334.5,   31.6,  701. ,   41.2,   61.2,   69.6,   67.5,   66.6,\n",
       "         120.7,  881.9],\n",
       "       [ 919.4,  404.2, 1024.8,   54.1,   62.8,  671.6,  882.1,  354.2,\n",
       "         321.9,   91.1],\n",
       "       [ 108.4,   26.1,  240.8,  191.1,   69.7,  242.8,   62.7,  396.9,\n",
       "          23.6,  290.4]])"
      ]
     },
     "execution_count": 3,
     "metadata": {},
     "output_type": "execute_result"
    }
   ],
   "source": [
    "X = np.array([x1,x2,x3])\n",
    "X"
   ]
  },
  {
   "cell_type": "markdown",
   "metadata": {},
   "source": [
    "这一题的意思可能是要把Observations也都当成区组。"
   ]
  },
  {
   "cell_type": "markdown",
   "metadata": {},
   "source": [
    "### (a) \n",
    "Is there evidence to support the claim that the treatment means differ?"
   ]
  },
  {
   "cell_type": "code",
   "execution_count": null,
   "metadata": {},
   "outputs": [],
   "source": [
    "data = np.concatenate((x1,x2,x3))\n",
    "treatment = np.array([1,1,1,1,1,1,1,1,1,1,\n",
    "                      2,2,2,2,2,2,2,2,2,2,\n",
    "                      3,3,3,3,3,3,3,3,3,3])\n",
    "obsevation = np.array([1,2,3,4,5,6,7,8,9,10,\n",
    "                       1,2,3,4,5,6,7,8,9,10,\n",
    "                       1,2,3,4,5,6,7,8,9,10])"
   ]
  },
  {
   "cell_type": "code",
   "execution_count": null,
   "metadata": {},
   "outputs": [],
   "source": [
    "Y = np.vstack((treatment, obsevation, data))"
   ]
  },
  {
   "cell_type": "code",
   "execution_count": null,
   "metadata": {},
   "outputs": [],
   "source": [
    "Y = pd.DataFrame(Y.T, columns = ['treatment', 'obsevation', 'data'])"
   ]
  },
  {
   "cell_type": "code",
   "execution_count": null,
   "metadata": {},
   "outputs": [
    {
     "data": {
      "text/html": [
       "<div>\n",
       "<style scoped>\n",
       "    .dataframe tbody tr th:only-of-type {\n",
       "        vertical-align: middle;\n",
       "    }\n",
       "\n",
       "    .dataframe tbody tr th {\n",
       "        vertical-align: top;\n",
       "    }\n",
       "\n",
       "    .dataframe thead th {\n",
       "        text-align: right;\n",
       "    }\n",
       "</style>\n",
       "<table border=\"1\" class=\"dataframe\">\n",
       "  <thead>\n",
       "    <tr style=\"text-align: right;\">\n",
       "      <th></th>\n",
       "      <th>treatment</th>\n",
       "      <th>obsevation</th>\n",
       "      <th>data</th>\n",
       "    </tr>\n",
       "  </thead>\n",
       "  <tbody>\n",
       "    <tr>\n",
       "      <th>0</th>\n",
       "      <td>1.0</td>\n",
       "      <td>1.0</td>\n",
       "      <td>334.5</td>\n",
       "    </tr>\n",
       "    <tr>\n",
       "      <th>1</th>\n",
       "      <td>1.0</td>\n",
       "      <td>2.0</td>\n",
       "      <td>31.6</td>\n",
       "    </tr>\n",
       "    <tr>\n",
       "      <th>2</th>\n",
       "      <td>1.0</td>\n",
       "      <td>3.0</td>\n",
       "      <td>701.0</td>\n",
       "    </tr>\n",
       "    <tr>\n",
       "      <th>3</th>\n",
       "      <td>1.0</td>\n",
       "      <td>4.0</td>\n",
       "      <td>41.2</td>\n",
       "    </tr>\n",
       "    <tr>\n",
       "      <th>4</th>\n",
       "      <td>1.0</td>\n",
       "      <td>5.0</td>\n",
       "      <td>61.2</td>\n",
       "    </tr>\n",
       "    <tr>\n",
       "      <th>5</th>\n",
       "      <td>1.0</td>\n",
       "      <td>6.0</td>\n",
       "      <td>69.6</td>\n",
       "    </tr>\n",
       "    <tr>\n",
       "      <th>6</th>\n",
       "      <td>1.0</td>\n",
       "      <td>7.0</td>\n",
       "      <td>67.5</td>\n",
       "    </tr>\n",
       "    <tr>\n",
       "      <th>7</th>\n",
       "      <td>1.0</td>\n",
       "      <td>8.0</td>\n",
       "      <td>66.6</td>\n",
       "    </tr>\n",
       "    <tr>\n",
       "      <th>8</th>\n",
       "      <td>1.0</td>\n",
       "      <td>9.0</td>\n",
       "      <td>120.7</td>\n",
       "    </tr>\n",
       "    <tr>\n",
       "      <th>9</th>\n",
       "      <td>1.0</td>\n",
       "      <td>10.0</td>\n",
       "      <td>881.9</td>\n",
       "    </tr>\n",
       "    <tr>\n",
       "      <th>10</th>\n",
       "      <td>2.0</td>\n",
       "      <td>1.0</td>\n",
       "      <td>919.4</td>\n",
       "    </tr>\n",
       "    <tr>\n",
       "      <th>11</th>\n",
       "      <td>2.0</td>\n",
       "      <td>2.0</td>\n",
       "      <td>404.2</td>\n",
       "    </tr>\n",
       "    <tr>\n",
       "      <th>12</th>\n",
       "      <td>2.0</td>\n",
       "      <td>3.0</td>\n",
       "      <td>1024.8</td>\n",
       "    </tr>\n",
       "    <tr>\n",
       "      <th>13</th>\n",
       "      <td>2.0</td>\n",
       "      <td>4.0</td>\n",
       "      <td>54.1</td>\n",
       "    </tr>\n",
       "    <tr>\n",
       "      <th>14</th>\n",
       "      <td>2.0</td>\n",
       "      <td>5.0</td>\n",
       "      <td>62.8</td>\n",
       "    </tr>\n",
       "    <tr>\n",
       "      <th>15</th>\n",
       "      <td>2.0</td>\n",
       "      <td>6.0</td>\n",
       "      <td>671.6</td>\n",
       "    </tr>\n",
       "    <tr>\n",
       "      <th>16</th>\n",
       "      <td>2.0</td>\n",
       "      <td>7.0</td>\n",
       "      <td>882.1</td>\n",
       "    </tr>\n",
       "    <tr>\n",
       "      <th>17</th>\n",
       "      <td>2.0</td>\n",
       "      <td>8.0</td>\n",
       "      <td>354.2</td>\n",
       "    </tr>\n",
       "    <tr>\n",
       "      <th>18</th>\n",
       "      <td>2.0</td>\n",
       "      <td>9.0</td>\n",
       "      <td>321.9</td>\n",
       "    </tr>\n",
       "    <tr>\n",
       "      <th>19</th>\n",
       "      <td>2.0</td>\n",
       "      <td>10.0</td>\n",
       "      <td>91.1</td>\n",
       "    </tr>\n",
       "    <tr>\n",
       "      <th>20</th>\n",
       "      <td>3.0</td>\n",
       "      <td>1.0</td>\n",
       "      <td>108.4</td>\n",
       "    </tr>\n",
       "    <tr>\n",
       "      <th>21</th>\n",
       "      <td>3.0</td>\n",
       "      <td>2.0</td>\n",
       "      <td>26.1</td>\n",
       "    </tr>\n",
       "    <tr>\n",
       "      <th>22</th>\n",
       "      <td>3.0</td>\n",
       "      <td>3.0</td>\n",
       "      <td>240.8</td>\n",
       "    </tr>\n",
       "    <tr>\n",
       "      <th>23</th>\n",
       "      <td>3.0</td>\n",
       "      <td>4.0</td>\n",
       "      <td>191.1</td>\n",
       "    </tr>\n",
       "    <tr>\n",
       "      <th>24</th>\n",
       "      <td>3.0</td>\n",
       "      <td>5.0</td>\n",
       "      <td>69.7</td>\n",
       "    </tr>\n",
       "    <tr>\n",
       "      <th>25</th>\n",
       "      <td>3.0</td>\n",
       "      <td>6.0</td>\n",
       "      <td>242.8</td>\n",
       "    </tr>\n",
       "    <tr>\n",
       "      <th>26</th>\n",
       "      <td>3.0</td>\n",
       "      <td>7.0</td>\n",
       "      <td>62.7</td>\n",
       "    </tr>\n",
       "    <tr>\n",
       "      <th>27</th>\n",
       "      <td>3.0</td>\n",
       "      <td>8.0</td>\n",
       "      <td>396.9</td>\n",
       "    </tr>\n",
       "    <tr>\n",
       "      <th>28</th>\n",
       "      <td>3.0</td>\n",
       "      <td>9.0</td>\n",
       "      <td>23.6</td>\n",
       "    </tr>\n",
       "    <tr>\n",
       "      <th>29</th>\n",
       "      <td>3.0</td>\n",
       "      <td>10.0</td>\n",
       "      <td>290.4</td>\n",
       "    </tr>\n",
       "  </tbody>\n",
       "</table>\n",
       "</div>"
      ],
      "text/plain": [
       "    treatment  obsevation    data\n",
       "0         1.0         1.0   334.5\n",
       "1         1.0         2.0    31.6\n",
       "2         1.0         3.0   701.0\n",
       "3         1.0         4.0    41.2\n",
       "4         1.0         5.0    61.2\n",
       "5         1.0         6.0    69.6\n",
       "6         1.0         7.0    67.5\n",
       "7         1.0         8.0    66.6\n",
       "8         1.0         9.0   120.7\n",
       "9         1.0        10.0   881.9\n",
       "10        2.0         1.0   919.4\n",
       "11        2.0         2.0   404.2\n",
       "12        2.0         3.0  1024.8\n",
       "13        2.0         4.0    54.1\n",
       "14        2.0         5.0    62.8\n",
       "15        2.0         6.0   671.6\n",
       "16        2.0         7.0   882.1\n",
       "17        2.0         8.0   354.2\n",
       "18        2.0         9.0   321.9\n",
       "19        2.0        10.0    91.1\n",
       "20        3.0         1.0   108.4\n",
       "21        3.0         2.0    26.1\n",
       "22        3.0         3.0   240.8\n",
       "23        3.0         4.0   191.1\n",
       "24        3.0         5.0    69.7\n",
       "25        3.0         6.0   242.8\n",
       "26        3.0         7.0    62.7\n",
       "27        3.0         8.0   396.9\n",
       "28        3.0         9.0    23.6\n",
       "29        3.0        10.0   290.4"
      ]
     },
     "execution_count": 7,
     "metadata": {},
     "output_type": "execute_result"
    }
   ],
   "source": [
    "Y"
   ]
  },
  {
   "cell_type": "code",
   "execution_count": null,
   "metadata": {},
   "outputs": [],
   "source": [
    "Y.to_csv('Problem4.12.csv', index = False)"
   ]
  },
  {
   "cell_type": "markdown",
   "metadata": {},
   "source": [
    "切换回R"
   ]
  },
  {
   "cell_type": "code",
   "execution_count": null,
   "metadata": {},
   "outputs": [],
   "source": [
    "data4.12 = read.csv('Problem4.12.csv', header =TRUE)"
   ]
  },
  {
   "cell_type": "code",
   "execution_count": null,
   "metadata": {},
   "outputs": [
    {
     "data": {
      "text/html": [
       "<table class=\"dataframe\">\n",
       "<caption>A data.frame: 30 × 3</caption>\n",
       "<thead>\n",
       "\t<tr><th scope=col>treatment</th><th scope=col>obsevation</th><th scope=col>data</th></tr>\n",
       "\t<tr><th scope=col>&lt;dbl&gt;</th><th scope=col>&lt;dbl&gt;</th><th scope=col>&lt;dbl&gt;</th></tr>\n",
       "</thead>\n",
       "<tbody>\n",
       "\t<tr><td>1</td><td> 1</td><td> 334.5</td></tr>\n",
       "\t<tr><td>1</td><td> 2</td><td>  31.6</td></tr>\n",
       "\t<tr><td>1</td><td> 3</td><td> 701.0</td></tr>\n",
       "\t<tr><td>1</td><td> 4</td><td>  41.2</td></tr>\n",
       "\t<tr><td>1</td><td> 5</td><td>  61.2</td></tr>\n",
       "\t<tr><td>1</td><td> 6</td><td>  69.6</td></tr>\n",
       "\t<tr><td>1</td><td> 7</td><td>  67.5</td></tr>\n",
       "\t<tr><td>1</td><td> 8</td><td>  66.6</td></tr>\n",
       "\t<tr><td>1</td><td> 9</td><td> 120.7</td></tr>\n",
       "\t<tr><td>1</td><td>10</td><td> 881.9</td></tr>\n",
       "\t<tr><td>2</td><td> 1</td><td> 919.4</td></tr>\n",
       "\t<tr><td>2</td><td> 2</td><td> 404.2</td></tr>\n",
       "\t<tr><td>2</td><td> 3</td><td>1024.8</td></tr>\n",
       "\t<tr><td>2</td><td> 4</td><td>  54.1</td></tr>\n",
       "\t<tr><td>2</td><td> 5</td><td>  62.8</td></tr>\n",
       "\t<tr><td>2</td><td> 6</td><td> 671.6</td></tr>\n",
       "\t<tr><td>2</td><td> 7</td><td> 882.1</td></tr>\n",
       "\t<tr><td>2</td><td> 8</td><td> 354.2</td></tr>\n",
       "\t<tr><td>2</td><td> 9</td><td> 321.9</td></tr>\n",
       "\t<tr><td>2</td><td>10</td><td>  91.1</td></tr>\n",
       "\t<tr><td>3</td><td> 1</td><td> 108.4</td></tr>\n",
       "\t<tr><td>3</td><td> 2</td><td>  26.1</td></tr>\n",
       "\t<tr><td>3</td><td> 3</td><td> 240.8</td></tr>\n",
       "\t<tr><td>3</td><td> 4</td><td> 191.1</td></tr>\n",
       "\t<tr><td>3</td><td> 5</td><td>  69.7</td></tr>\n",
       "\t<tr><td>3</td><td> 6</td><td> 242.8</td></tr>\n",
       "\t<tr><td>3</td><td> 7</td><td>  62.7</td></tr>\n",
       "\t<tr><td>3</td><td> 8</td><td> 396.9</td></tr>\n",
       "\t<tr><td>3</td><td> 9</td><td>  23.6</td></tr>\n",
       "\t<tr><td>3</td><td>10</td><td> 290.4</td></tr>\n",
       "</tbody>\n",
       "</table>\n"
      ],
      "text/latex": [
       "A data.frame: 30 × 3\n",
       "\\begin{tabular}{lll}\n",
       " treatment & obsevation & data\\\\\n",
       " <dbl> & <dbl> & <dbl>\\\\\n",
       "\\hline\n",
       "\t 1 &  1 &  334.5\\\\\n",
       "\t 1 &  2 &   31.6\\\\\n",
       "\t 1 &  3 &  701.0\\\\\n",
       "\t 1 &  4 &   41.2\\\\\n",
       "\t 1 &  5 &   61.2\\\\\n",
       "\t 1 &  6 &   69.6\\\\\n",
       "\t 1 &  7 &   67.5\\\\\n",
       "\t 1 &  8 &   66.6\\\\\n",
       "\t 1 &  9 &  120.7\\\\\n",
       "\t 1 & 10 &  881.9\\\\\n",
       "\t 2 &  1 &  919.4\\\\\n",
       "\t 2 &  2 &  404.2\\\\\n",
       "\t 2 &  3 & 1024.8\\\\\n",
       "\t 2 &  4 &   54.1\\\\\n",
       "\t 2 &  5 &   62.8\\\\\n",
       "\t 2 &  6 &  671.6\\\\\n",
       "\t 2 &  7 &  882.1\\\\\n",
       "\t 2 &  8 &  354.2\\\\\n",
       "\t 2 &  9 &  321.9\\\\\n",
       "\t 2 & 10 &   91.1\\\\\n",
       "\t 3 &  1 &  108.4\\\\\n",
       "\t 3 &  2 &   26.1\\\\\n",
       "\t 3 &  3 &  240.8\\\\\n",
       "\t 3 &  4 &  191.1\\\\\n",
       "\t 3 &  5 &   69.7\\\\\n",
       "\t 3 &  6 &  242.8\\\\\n",
       "\t 3 &  7 &   62.7\\\\\n",
       "\t 3 &  8 &  396.9\\\\\n",
       "\t 3 &  9 &   23.6\\\\\n",
       "\t 3 & 10 &  290.4\\\\\n",
       "\\end{tabular}\n"
      ],
      "text/markdown": [
       "\n",
       "A data.frame: 30 × 3\n",
       "\n",
       "| treatment &lt;dbl&gt; | obsevation &lt;dbl&gt; | data &lt;dbl&gt; |\n",
       "|---|---|---|\n",
       "| 1 |  1 |  334.5 |\n",
       "| 1 |  2 |   31.6 |\n",
       "| 1 |  3 |  701.0 |\n",
       "| 1 |  4 |   41.2 |\n",
       "| 1 |  5 |   61.2 |\n",
       "| 1 |  6 |   69.6 |\n",
       "| 1 |  7 |   67.5 |\n",
       "| 1 |  8 |   66.6 |\n",
       "| 1 |  9 |  120.7 |\n",
       "| 1 | 10 |  881.9 |\n",
       "| 2 |  1 |  919.4 |\n",
       "| 2 |  2 |  404.2 |\n",
       "| 2 |  3 | 1024.8 |\n",
       "| 2 |  4 |   54.1 |\n",
       "| 2 |  5 |   62.8 |\n",
       "| 2 |  6 |  671.6 |\n",
       "| 2 |  7 |  882.1 |\n",
       "| 2 |  8 |  354.2 |\n",
       "| 2 |  9 |  321.9 |\n",
       "| 2 | 10 |   91.1 |\n",
       "| 3 |  1 |  108.4 |\n",
       "| 3 |  2 |   26.1 |\n",
       "| 3 |  3 |  240.8 |\n",
       "| 3 |  4 |  191.1 |\n",
       "| 3 |  5 |   69.7 |\n",
       "| 3 |  6 |  242.8 |\n",
       "| 3 |  7 |   62.7 |\n",
       "| 3 |  8 |  396.9 |\n",
       "| 3 |  9 |   23.6 |\n",
       "| 3 | 10 |  290.4 |\n",
       "\n"
      ],
      "text/plain": [
       "   treatment obsevation data  \n",
       "1  1          1          334.5\n",
       "2  1          2           31.6\n",
       "3  1          3          701.0\n",
       "4  1          4           41.2\n",
       "5  1          5           61.2\n",
       "6  1          6           69.6\n",
       "7  1          7           67.5\n",
       "8  1          8           66.6\n",
       "9  1          9          120.7\n",
       "10 1         10          881.9\n",
       "11 2          1          919.4\n",
       "12 2          2          404.2\n",
       "13 2          3         1024.8\n",
       "14 2          4           54.1\n",
       "15 2          5           62.8\n",
       "16 2          6          671.6\n",
       "17 2          7          882.1\n",
       "18 2          8          354.2\n",
       "19 2          9          321.9\n",
       "20 2         10           91.1\n",
       "21 3          1          108.4\n",
       "22 3          2           26.1\n",
       "23 3          3          240.8\n",
       "24 3          4          191.1\n",
       "25 3          5           69.7\n",
       "26 3          6          242.8\n",
       "27 3          7           62.7\n",
       "28 3          8          396.9\n",
       "29 3          9           23.6\n",
       "30 3         10          290.4"
      ]
     },
     "metadata": {},
     "output_type": "display_data"
    }
   ],
   "source": [
    "data4.12"
   ]
  },
  {
   "cell_type": "code",
   "execution_count": null,
   "metadata": {},
   "outputs": [
    {
     "data": {
      "text/plain": [
       "                   Df  Sum Sq Mean Sq F value Pr(>F)  \n",
       "factor(treatment)   2  538442  269221   3.681 0.0457 *\n",
       "factor(obsevation)  9  920632  102292   1.399 0.2597  \n",
       "Residuals          18 1316343   73130                 \n",
       "---\n",
       "Signif. codes:  0 '***' 0.001 '**' 0.01 '*' 0.05 '.' 0.1 ' ' 1"
      ]
     },
     "metadata": {},
     "output_type": "display_data"
    }
   ],
   "source": [
    "data4.12.aov = aov(data ~ factor(treatment) + factor(obsevation), data4.12)\n",
    "summary(data4.12.aov)"
   ]
  },
  {
   "cell_type": "markdown",
   "metadata": {
    "vscode": {
     "languageId": "r"
    }
   },
   "source": [
    "Hypothesis Testing：\n",
    "$$\n",
    "H_0：\\mu_1 = \\mu_2 = \\mu_3 \\quad vs \\quad H_1: not\\space H_0\n",
    "$$"
   ]
  },
  {
   "cell_type": "markdown",
   "metadata": {
    "vscode": {
     "languageId": "r"
    }
   },
   "source": [
    "$F_0 = 0.0457 < \\alpha = 0.005$<br>\n",
    "Then we reject the null Hypothesis."
   ]
  },
  {
   "cell_type": "markdown",
   "metadata": {},
   "source": [
    "### (b)"
   ]
  },
  {
   "cell_type": "markdown",
   "metadata": {},
   "source": [
    "> Check the normality assumption. Can we assume these samples are from normal populations?"
   ]
  },
  {
   "cell_type": "code",
   "execution_count": null,
   "metadata": {},
   "outputs": [
    {
     "data": {
      "text/plain": [
       "((array([-1.49876728, -0.98494667, -0.64703803, -0.37109819, -0.12121409,\n",
       "          0.12121409,  0.37109819,  0.64703803,  0.98494667,  1.49876728]),\n",
       "  array([ 31.6,  41.2,  61.2,  66.6,  67.5,  69.6, 120.7, 334.5, 701. ,\n",
       "         881.9])),\n",
       " (280.0584394450193, 237.58, 0.8353370099888793))"
      ]
     },
     "execution_count": 8,
     "metadata": {},
     "output_type": "execute_result"
    },
    {
     "data": {
      "image/png": "[encoded data removed]",
      "text/plain": [
       "<Figure size 640x480 with 1 Axes>"
      ]
     },
     "metadata": {},
     "output_type": "display_data"
    }
   ],
   "source": [
    "from scipy import stats\n",
    "import numpy as np\n",
    "import pandas as pd\n",
    "import matplotlib.pyplot as plt\n",
    "stats.probplot(x1, plot = plt)"
   ]
  },
  {
   "cell_type": "code",
   "execution_count": null,
   "metadata": {},
   "outputs": [
    {
     "data": {
      "text/plain": [
       "((array([-1.49876728, -0.98494667, -0.64703803, -0.37109819, -0.12121409,\n",
       "          0.12121409,  0.37109819,  0.64703803,  0.98494667,  1.49876728]),\n",
       "  array([  54.1,   62.8,   91.1,  321.9,  354.2,  404.2,  671.6,  882.1,\n",
       "          919.4, 1024.8])),\n",
       " (388.9384414996332, 478.62, 0.9607182463985882))"
      ]
     },
     "execution_count": 9,
     "metadata": {},
     "output_type": "execute_result"
    },
    {
     "data": {
      "image/png": "[encoded data removed]",
      "text/plain": [
       "<Figure size 640x480 with 1 Axes>"
      ]
     },
     "metadata": {},
     "output_type": "display_data"
    }
   ],
   "source": [
    "stats.probplot(x2, plot = plt)"
   ]
  },
  {
   "cell_type": "code",
   "execution_count": null,
   "metadata": {},
   "outputs": [
    {
     "data": {
      "text/plain": [
       "((array([-1.49876728, -0.98494667, -0.64703803, -0.37109819, -0.12121409,\n",
       "          0.12121409,  0.37109819,  0.64703803,  0.98494667,  1.49876728]),\n",
       "  array([ 23.6,  26.1,  62.7,  69.7, 108.4, 191.1, 240.8, 242.8, 290.4,\n",
       "         396.9])),\n",
       " (133.3155409866606, 165.25, 0.9668522285193383))"
      ]
     },
     "execution_count": 10,
     "metadata": {},
     "output_type": "execute_result"
    },
    {
     "data": {
      "image/png": "[encoded data removed]",
      "text/plain": [
       "<Figure size 640x480 with 1 Axes>"
      ]
     },
     "metadata": {},
     "output_type": "display_data"
    }
   ],
   "source": [
    "stats.probplot(x3, plot = plt)"
   ]
  },
  {
   "cell_type": "markdown",
   "metadata": {},
   "source": [
    "Their linearlities are not very stable and perfect.<br>\n",
    "We **cannot** just assume it that way."
   ]
  },
  {
   "cell_type": "markdown",
   "metadata": {},
   "source": [
    "#### (c)\n",
    ">Take the logarithm of the raw data. Is there evidence to support the claim that the treatment means differ for the transformed data? "
   ]
  },
  {
   "cell_type": "code",
   "execution_count": null,
   "metadata": {},
   "outputs": [],
   "source": [
    "data4.12.transformed = read.csv('Problem4.12.csv', header =TRUE)\n",
    "data4.12.transformed$data = log(data4.12.transformed$data)"
   ]
  },
  {
   "cell_type": "code",
   "execution_count": null,
   "metadata": {},
   "outputs": [
    {
     "data": {
      "text/html": [
       "<table class=\"dataframe\">\n",
       "<caption>A data.frame: 30 × 3</caption>\n",
       "<thead>\n",
       "\t<tr><th scope=col>treatment</th><th scope=col>obsevation</th><th scope=col>data</th></tr>\n",
       "\t<tr><th scope=col>&lt;dbl&gt;</th><th scope=col>&lt;dbl&gt;</th><th scope=col>&lt;dbl&gt;</th></tr>\n",
       "</thead>\n",
       "<tbody>\n",
       "\t<tr><td>1</td><td> 1</td><td>5.812637</td></tr>\n",
       "\t<tr><td>1</td><td> 2</td><td>3.453157</td></tr>\n",
       "\t<tr><td>1</td><td> 3</td><td>6.552508</td></tr>\n",
       "\t<tr><td>1</td><td> 4</td><td>3.718438</td></tr>\n",
       "\t<tr><td>1</td><td> 5</td><td>4.114147</td></tr>\n",
       "\t<tr><td>1</td><td> 6</td><td>4.242765</td></tr>\n",
       "\t<tr><td>1</td><td> 7</td><td>4.212128</td></tr>\n",
       "\t<tr><td>1</td><td> 8</td><td>4.198705</td></tr>\n",
       "\t<tr><td>1</td><td> 9</td><td>4.793308</td></tr>\n",
       "\t<tr><td>1</td><td>10</td><td>6.782079</td></tr>\n",
       "\t<tr><td>2</td><td> 1</td><td>6.823721</td></tr>\n",
       "\t<tr><td>2</td><td> 2</td><td>6.001910</td></tr>\n",
       "\t<tr><td>2</td><td> 3</td><td>6.932253</td></tr>\n",
       "\t<tr><td>2</td><td> 4</td><td>3.990834</td></tr>\n",
       "\t<tr><td>2</td><td> 5</td><td>4.139955</td></tr>\n",
       "\t<tr><td>2</td><td> 6</td><td>6.509663</td></tr>\n",
       "\t<tr><td>2</td><td> 7</td><td>6.782305</td></tr>\n",
       "\t<tr><td>2</td><td> 8</td><td>5.869862</td></tr>\n",
       "\t<tr><td>2</td><td> 9</td><td>5.774241</td></tr>\n",
       "\t<tr><td>2</td><td>10</td><td>4.511958</td></tr>\n",
       "\t<tr><td>3</td><td> 1</td><td>4.685828</td></tr>\n",
       "\t<tr><td>3</td><td> 2</td><td>3.261935</td></tr>\n",
       "\t<tr><td>3</td><td> 3</td><td>5.483967</td></tr>\n",
       "\t<tr><td>3</td><td> 4</td><td>5.252797</td></tr>\n",
       "\t<tr><td>3</td><td> 5</td><td>4.244200</td></tr>\n",
       "\t<tr><td>3</td><td> 6</td><td>5.492238</td></tr>\n",
       "\t<tr><td>3</td><td> 7</td><td>4.138361</td></tr>\n",
       "\t<tr><td>3</td><td> 8</td><td>5.983684</td></tr>\n",
       "\t<tr><td>3</td><td> 9</td><td>3.161247</td></tr>\n",
       "\t<tr><td>3</td><td>10</td><td>5.671259</td></tr>\n",
       "</tbody>\n",
       "</table>\n"
      ],
      "text/latex": [
       "A data.frame: 30 × 3\n",
       "\\begin{tabular}{lll}\n",
       " treatment & obsevation & data\\\\\n",
       " <dbl> & <dbl> & <dbl>\\\\\n",
       "\\hline\n",
       "\t 1 &  1 & 5.812637\\\\\n",
       "\t 1 &  2 & 3.453157\\\\\n",
       "\t 1 &  3 & 6.552508\\\\\n",
       "\t 1 &  4 & 3.718438\\\\\n",
       "\t 1 &  5 & 4.114147\\\\\n",
       "\t 1 &  6 & 4.242765\\\\\n",
       "\t 1 &  7 & 4.212128\\\\\n",
       "\t 1 &  8 & 4.198705\\\\\n",
       "\t 1 &  9 & 4.793308\\\\\n",
       "\t 1 & 10 & 6.782079\\\\\n",
       "\t 2 &  1 & 6.823721\\\\\n",
       "\t 2 &  2 & 6.001910\\\\\n",
       "\t 2 &  3 & 6.932253\\\\\n",
       "\t 2 &  4 & 3.990834\\\\\n",
       "\t 2 &  5 & 4.139955\\\\\n",
       "\t 2 &  6 & 6.509663\\\\\n",
       "\t 2 &  7 & 6.782305\\\\\n",
       "\t 2 &  8 & 5.869862\\\\\n",
       "\t 2 &  9 & 5.774241\\\\\n",
       "\t 2 & 10 & 4.511958\\\\\n",
       "\t 3 &  1 & 4.685828\\\\\n",
       "\t 3 &  2 & 3.261935\\\\\n",
       "\t 3 &  3 & 5.483967\\\\\n",
       "\t 3 &  4 & 5.252797\\\\\n",
       "\t 3 &  5 & 4.244200\\\\\n",
       "\t 3 &  6 & 5.492238\\\\\n",
       "\t 3 &  7 & 4.138361\\\\\n",
       "\t 3 &  8 & 5.983684\\\\\n",
       "\t 3 &  9 & 3.161247\\\\\n",
       "\t 3 & 10 & 5.671259\\\\\n",
       "\\end{tabular}\n"
      ],
      "text/markdown": [
       "\n",
       "A data.frame: 30 × 3\n",
       "\n",
       "| treatment &lt;dbl&gt; | obsevation &lt;dbl&gt; | data &lt;dbl&gt; |\n",
       "|---|---|---|\n",
       "| 1 |  1 | 5.812637 |\n",
       "| 1 |  2 | 3.453157 |\n",
       "| 1 |  3 | 6.552508 |\n",
       "| 1 |  4 | 3.718438 |\n",
       "| 1 |  5 | 4.114147 |\n",
       "| 1 |  6 | 4.242765 |\n",
       "| 1 |  7 | 4.212128 |\n",
       "| 1 |  8 | 4.198705 |\n",
       "| 1 |  9 | 4.793308 |\n",
       "| 1 | 10 | 6.782079 |\n",
       "| 2 |  1 | 6.823721 |\n",
       "| 2 |  2 | 6.001910 |\n",
       "| 2 |  3 | 6.932253 |\n",
       "| 2 |  4 | 3.990834 |\n",
       "| 2 |  5 | 4.139955 |\n",
       "| 2 |  6 | 6.509663 |\n",
       "| 2 |  7 | 6.782305 |\n",
       "| 2 |  8 | 5.869862 |\n",
       "| 2 |  9 | 5.774241 |\n",
       "| 2 | 10 | 4.511958 |\n",
       "| 3 |  1 | 4.685828 |\n",
       "| 3 |  2 | 3.261935 |\n",
       "| 3 |  3 | 5.483967 |\n",
       "| 3 |  4 | 5.252797 |\n",
       "| 3 |  5 | 4.244200 |\n",
       "| 3 |  6 | 5.492238 |\n",
       "| 3 |  7 | 4.138361 |\n",
       "| 3 |  8 | 5.983684 |\n",
       "| 3 |  9 | 3.161247 |\n",
       "| 3 | 10 | 5.671259 |\n",
       "\n"
      ],
      "text/plain": [
       "   treatment obsevation data    \n",
       "1  1          1         5.812637\n",
       "2  1          2         3.453157\n",
       "3  1          3         6.552508\n",
       "4  1          4         3.718438\n",
       "5  1          5         4.114147\n",
       "6  1          6         4.242765\n",
       "7  1          7         4.212128\n",
       "8  1          8         4.198705\n",
       "9  1          9         4.793308\n",
       "10 1         10         6.782079\n",
       "11 2          1         6.823721\n",
       "12 2          2         6.001910\n",
       "13 2          3         6.932253\n",
       "14 2          4         3.990834\n",
       "15 2          5         4.139955\n",
       "16 2          6         6.509663\n",
       "17 2          7         6.782305\n",
       "18 2          8         5.869862\n",
       "19 2          9         5.774241\n",
       "20 2         10         4.511958\n",
       "21 3          1         4.685828\n",
       "22 3          2         3.261935\n",
       "23 3          3         5.483967\n",
       "24 3          4         5.252797\n",
       "25 3          5         4.244200\n",
       "26 3          6         5.492238\n",
       "27 3          7         4.138361\n",
       "28 3          8         5.983684\n",
       "29 3          9         3.161247\n",
       "30 3         10         5.671259"
      ]
     },
     "metadata": {},
     "output_type": "display_data"
    }
   ],
   "source": [
    "data4.12.transformed"
   ]
  },
  {
   "cell_type": "code",
   "execution_count": null,
   "metadata": {},
   "outputs": [
    {
     "data": {
      "text/plain": [
       "                   Df Sum Sq Mean Sq F value Pr(>F)  \n",
       "factor(treatment)   2  6.297   3.148   3.094  0.070 .\n",
       "factor(obsevation)  9 14.749   1.639   1.610  0.186  \n",
       "Residuals          18 18.319   1.018                 \n",
       "---\n",
       "Signif. codes:  0 '***' 0.001 '**' 0.01 '*' 0.05 '.' 0.1 ' ' 1"
      ]
     },
     "metadata": {},
     "output_type": "display_data"
    }
   ],
   "source": [
    "data4.12.transformed.aov = aov(data~factor(treatment)+factor(obsevation), data4.12.transformed)\n",
    "summary(data4.12.transformed.aov)"
   ]
  },
  {
   "cell_type": "markdown",
   "metadata": {},
   "source": [
    "Hypothesis Testing：\n",
    "$$\n",
    "H_0：\\mu_1 = \\mu_2 = \\mu_3 \\quad vs \\quad H_1: not\\space H_0\n",
    "$$"
   ]
  },
  {
   "cell_type": "markdown",
   "metadata": {},
   "source": [
    "Here we find that $$F_0 = 3.094 \\quad p\\space value = 0.07$$<br>\n",
    "which is to say that with $\\alpha = 0.05$, we can reject null hypothesis.<br><br>\n",
    "So for the transformed data, we can say that the treatment means differ."
   ]
  },
  {
   "cell_type": "markdown",
   "metadata": {
    "vscode": {
     "languageId": "r"
    }
   },
   "source": [
    "#### (d)\n",
    "> Analyze the residuals from the transformed data and comment on model adequacy."
   ]
  },
  {
   "cell_type": "code",
   "execution_count": null,
   "metadata": {},
   "outputs": [
    {
     "data": {
      "image/png": "[encoded data removed]",
      "text/plain": [
       "plot without title"
      ]
     },
     "metadata": {
      "image/png": {
       "height": 420,
       "width": 420
      }
     },
     "output_type": "display_data"
    }
   ],
   "source": [
    "data4.12.transformed.aov.res = residuals(data4.12.transformed.aov)\n",
    "data4.12.transformed.aov.fitted = fitted.values(data4.12.transformed.aov)\n",
    "\n",
    "plot(data4.12.transformed.aov.fitted, data4.12.transformed.aov.res, \n",
    "xlab = \"Fitted\", ylab = \"Residuals\", pch = 0)\n",
    "abline(h = 0)"
   ]
  },
  {
   "cell_type": "code",
   "execution_count": null,
   "metadata": {},
   "outputs": [
    {
     "data": {
      "image/png": "[encoded data removed]",
      "text/plain": [
       "plot without title"
      ]
     },
     "metadata": {
      "image/png": {
       "height": 420,
       "width": 420
      }
     },
     "output_type": "display_data"
    }
   ],
   "source": [
    "plot(as.numeric(data4.12.transformed$obsevation), data4.12.transformed.aov.res,\n",
    " xlab = \"obsevation of (block)\", ylab = \"Residuals\", pch = 0)\n",
    "abline(h = 0)"
   ]
  },
  {
   "cell_type": "code",
   "execution_count": null,
   "metadata": {},
   "outputs": [
    {
     "data": {
      "image/png": "[encoded data removed]",
      "text/plain": [
       "plot without title"
      ]
     },
     "metadata": {
      "image/png": {
       "height": 420,
       "width": 420
      }
     },
     "output_type": "display_data"
    }
   ],
   "source": [
    " plot(as.numeric(data4.12.transformed$treatment), data4.12.transformed.aov.res,\n",
    " xlab = \"treatment\", ylab = \"Residuals\", pch = 0)\n",
    " abline(h = 0)"
   ]
  },
  {
   "cell_type": "markdown",
   "metadata": {
    "vscode": {
     "languageId": "r"
    }
   },
   "source": [
    "For we cannot see obvious pattern and outlier in this picture, we can say that the model is **adequate**."
   ]
  },
  {
   "cell_type": "markdown",
   "metadata": {},
   "source": [
    "## 4.22\n",
    ">  The effect of five different ingredients (A,B,C,D,E) on the reaction time of a chemical process is being studied.<br>\n",
    " Each batch of new material is only large enough to permit five runs to be made. Furthermore, each run requires approximately $1\\frac{1}{2}$ hours, so only five runs can be made in one day. <br>\n",
    " The experimenter decides to run the experiment as a Latin square so that day and batch effects may be systematically controlled. <br>\n",
    " She obtains the data that follow. Analyze the data from this experiment (use $\\alpha=$ 0.05) and draw conclusions.<br>"
   ]
  },
  {
   "cell_type": "code",
   "execution_count": null,
   "metadata": {},
   "outputs": [],
   "source": [
    "data4.22 = data.frame(data=c(8,7,1,7,3,\n",
    " 11,2,7,3,8,\n",
    " 4,9,10,1,5,\n",
    " 6,8,6,6,10,\n",
    " 4,2,3,8,8),\n",
    "\n",
    " ingredient = c('A','B','C','D','E',\n",
    " 'C','E','A','D','B',\n",
    " 'B','A','C','E','D',\n",
    " 'D','C','E','B','A',\n",
    " 'E','D','B','A','C'), \n",
    "\n",
    " day= rep(c(1:5), 5),\n",
    "\n",
    " batch=  c(rep(1, 5), rep(2, 5), rep(3, 5),\n",
    " rep(4, 5), rep(5, 5))\n",
    ")"
   ]
  },
  {
   "cell_type": "code",
   "execution_count": null,
   "metadata": {},
   "outputs": [
    {
     "data": {
      "text/html": [
       "<table class=\"dataframe\">\n",
       "<caption>A data.frame: 25 × 4</caption>\n",
       "<thead>\n",
       "\t<tr><th scope=col>data</th><th scope=col>ingredient</th><th scope=col>day</th><th scope=col>batch</th></tr>\n",
       "\t<tr><th scope=col>&lt;dbl&gt;</th><th scope=col>&lt;chr&gt;</th><th scope=col>&lt;int&gt;</th><th scope=col>&lt;dbl&gt;</th></tr>\n",
       "</thead>\n",
       "<tbody>\n",
       "\t<tr><td> 8</td><td>A</td><td>1</td><td>1</td></tr>\n",
       "\t<tr><td> 7</td><td>B</td><td>2</td><td>1</td></tr>\n",
       "\t<tr><td> 1</td><td>C</td><td>3</td><td>1</td></tr>\n",
       "\t<tr><td> 7</td><td>D</td><td>4</td><td>1</td></tr>\n",
       "\t<tr><td> 3</td><td>E</td><td>5</td><td>1</td></tr>\n",
       "\t<tr><td>11</td><td>C</td><td>1</td><td>2</td></tr>\n",
       "\t<tr><td> 2</td><td>E</td><td>2</td><td>2</td></tr>\n",
       "\t<tr><td> 7</td><td>A</td><td>3</td><td>2</td></tr>\n",
       "\t<tr><td> 3</td><td>D</td><td>4</td><td>2</td></tr>\n",
       "\t<tr><td> 8</td><td>B</td><td>5</td><td>2</td></tr>\n",
       "\t<tr><td> 4</td><td>B</td><td>1</td><td>3</td></tr>\n",
       "\t<tr><td> 9</td><td>A</td><td>2</td><td>3</td></tr>\n",
       "\t<tr><td>10</td><td>C</td><td>3</td><td>3</td></tr>\n",
       "\t<tr><td> 1</td><td>E</td><td>4</td><td>3</td></tr>\n",
       "\t<tr><td> 5</td><td>D</td><td>5</td><td>3</td></tr>\n",
       "\t<tr><td> 6</td><td>D</td><td>1</td><td>4</td></tr>\n",
       "\t<tr><td> 8</td><td>C</td><td>2</td><td>4</td></tr>\n",
       "\t<tr><td> 6</td><td>E</td><td>3</td><td>4</td></tr>\n",
       "\t<tr><td> 6</td><td>B</td><td>4</td><td>4</td></tr>\n",
       "\t<tr><td>10</td><td>A</td><td>5</td><td>4</td></tr>\n",
       "\t<tr><td> 4</td><td>E</td><td>1</td><td>5</td></tr>\n",
       "\t<tr><td> 2</td><td>D</td><td>2</td><td>5</td></tr>\n",
       "\t<tr><td> 3</td><td>B</td><td>3</td><td>5</td></tr>\n",
       "\t<tr><td> 8</td><td>A</td><td>4</td><td>5</td></tr>\n",
       "\t<tr><td> 8</td><td>C</td><td>5</td><td>5</td></tr>\n",
       "</tbody>\n",
       "</table>\n"
      ],
      "text/latex": [
       "A data.frame: 25 × 4\n",
       "\\begin{tabular}{llll}\n",
       " data & ingredient & day & batch\\\\\n",
       " <dbl> & <chr> & <int> & <dbl>\\\\\n",
       "\\hline\n",
       "\t  8 & A & 1 & 1\\\\\n",
       "\t  7 & B & 2 & 1\\\\\n",
       "\t  1 & C & 3 & 1\\\\\n",
       "\t  7 & D & 4 & 1\\\\\n",
       "\t  3 & E & 5 & 1\\\\\n",
       "\t 11 & C & 1 & 2\\\\\n",
       "\t  2 & E & 2 & 2\\\\\n",
       "\t  7 & A & 3 & 2\\\\\n",
       "\t  3 & D & 4 & 2\\\\\n",
       "\t  8 & B & 5 & 2\\\\\n",
       "\t  4 & B & 1 & 3\\\\\n",
       "\t  9 & A & 2 & 3\\\\\n",
       "\t 10 & C & 3 & 3\\\\\n",
       "\t  1 & E & 4 & 3\\\\\n",
       "\t  5 & D & 5 & 3\\\\\n",
       "\t  6 & D & 1 & 4\\\\\n",
       "\t  8 & C & 2 & 4\\\\\n",
       "\t  6 & E & 3 & 4\\\\\n",
       "\t  6 & B & 4 & 4\\\\\n",
       "\t 10 & A & 5 & 4\\\\\n",
       "\t  4 & E & 1 & 5\\\\\n",
       "\t  2 & D & 2 & 5\\\\\n",
       "\t  3 & B & 3 & 5\\\\\n",
       "\t  8 & A & 4 & 5\\\\\n",
       "\t  8 & C & 5 & 5\\\\\n",
       "\\end{tabular}\n"
      ],
      "text/markdown": [
       "\n",
       "A data.frame: 25 × 4\n",
       "\n",
       "| data &lt;dbl&gt; | ingredient &lt;chr&gt; | day &lt;int&gt; | batch &lt;dbl&gt; |\n",
       "|---|---|---|---|\n",
       "|  8 | A | 1 | 1 |\n",
       "|  7 | B | 2 | 1 |\n",
       "|  1 | C | 3 | 1 |\n",
       "|  7 | D | 4 | 1 |\n",
       "|  3 | E | 5 | 1 |\n",
       "| 11 | C | 1 | 2 |\n",
       "|  2 | E | 2 | 2 |\n",
       "|  7 | A | 3 | 2 |\n",
       "|  3 | D | 4 | 2 |\n",
       "|  8 | B | 5 | 2 |\n",
       "|  4 | B | 1 | 3 |\n",
       "|  9 | A | 2 | 3 |\n",
       "| 10 | C | 3 | 3 |\n",
       "|  1 | E | 4 | 3 |\n",
       "|  5 | D | 5 | 3 |\n",
       "|  6 | D | 1 | 4 |\n",
       "|  8 | C | 2 | 4 |\n",
       "|  6 | E | 3 | 4 |\n",
       "|  6 | B | 4 | 4 |\n",
       "| 10 | A | 5 | 4 |\n",
       "|  4 | E | 1 | 5 |\n",
       "|  2 | D | 2 | 5 |\n",
       "|  3 | B | 3 | 5 |\n",
       "|  8 | A | 4 | 5 |\n",
       "|  8 | C | 5 | 5 |\n",
       "\n"
      ],
      "text/plain": [
       "   data ingredient day batch\n",
       "1   8   A          1   1    \n",
       "2   7   B          2   1    \n",
       "3   1   C          3   1    \n",
       "4   7   D          4   1    \n",
       "5   3   E          5   1    \n",
       "6  11   C          1   2    \n",
       "7   2   E          2   2    \n",
       "8   7   A          3   2    \n",
       "9   3   D          4   2    \n",
       "10  8   B          5   2    \n",
       "11  4   B          1   3    \n",
       "12  9   A          2   3    \n",
       "13 10   C          3   3    \n",
       "14  1   E          4   3    \n",
       "15  5   D          5   3    \n",
       "16  6   D          1   4    \n",
       "17  8   C          2   4    \n",
       "18  6   E          3   4    \n",
       "19  6   B          4   4    \n",
       "20 10   A          5   4    \n",
       "21  4   E          1   5    \n",
       "22  2   D          2   5    \n",
       "23  3   B          3   5    \n",
       "24  8   A          4   5    \n",
       "25  8   C          5   5    "
      ]
     },
     "metadata": {},
     "output_type": "display_data"
    }
   ],
   "source": [
    "data4.22"
   ]
  },
  {
   "cell_type": "code",
   "execution_count": null,
   "metadata": {},
   "outputs": [
    {
     "data": {
      "text/plain": [
       "                   Df Sum Sq Mean Sq F value Pr(>F)  \n",
       "factor(ingredient)  4  91.04  22.760   3.161 0.0544 .\n",
       "factor(day)         4  13.74   3.436   0.477 0.7521  \n",
       "factor(batch)       4  15.44   3.860   0.536 0.7121  \n",
       "Residuals          12  86.42   7.201                 \n",
       "---\n",
       "Signif. codes:  0 '***' 0.001 '**' 0.01 '*' 0.05 '.' 0.1 ' ' 1"
      ]
     },
     "metadata": {},
     "output_type": "display_data"
    }
   ],
   "source": [
    "data4.22.aov= aov(data~factor(ingredient)+factor(day)+factor(batch), data4.22)\n",
    "summary(data4.22.aov)"
   ]
  },
  {
   "cell_type": "markdown",
   "metadata": {},
   "source": [
    "Similarly, the ANOVA support our conclusion that the treatment means differ."
   ]
  },
  {
   "cell_type": "code",
   "execution_count": null,
   "metadata": {},
   "outputs": [
    {
     "data": {
      "image/png": "[encoded data removed]",
      "text/plain": [
       "Plot with title \"Normal P-P Plot\""
      ]
     },
     "metadata": {
      "image/png": {
       "height": 420,
       "width": 420
      }
     },
     "output_type": "display_data"
    }
   ],
   "source": [
    "data4.22.aov.fitted = fitted.values(data4.22.aov)\n",
    "data4.22.aov.res = residuals(data4.22.aov)\n",
    "\n",
    "source(\"PP_plot.R\")\n",
    " pp.plot(x = data4.22.aov.res, pch = 0, xlab = \"Residual\",\n",
    " line.method = \"Q\", legend.add = FALSE)\n"
   ]
  },
  {
   "cell_type": "code",
   "execution_count": null,
   "metadata": {},
   "outputs": [
    {
     "data": {
      "image/png": "[encoded data removed]",
      "text/plain": [
       "plot without title"
      ]
     },
     "metadata": {},
     "output_type": "display_data"
    }
   ],
   "source": [
    "plot(as.numeric(X$blocks), X_aov_res,\n",
    " xlab = \"Batch of raw material(block)\", ylab = \"Residuals\", pch = 0)\n",
    "abline(h = 0)"
   ]
  },
  {
   "cell_type": "code",
   "execution_count": null,
   "metadata": {},
   "outputs": [
    {
     "data": {
      "image/png": "[encoded data removed]",
      "text/plain": [
       "plot without title"
      ]
     },
     "metadata": {
      "image/png": {
       "height": 420,
       "width": 420
      }
     },
     "output_type": "display_data"
    }
   ],
   "source": [
    "plot(data4.22.aov.fitted, data4.22.aov.res,\n",
    " xlab = \"Fitted\", ylab = \"Residuals\", pch = 0)\n",
    "abline(h = 0)"
   ]
  },
  {
   "cell_type": "code",
   "execution_count": null,
   "metadata": {},
   "outputs": [
    {
     "data": {
      "image/png": "[encoded data removed]",
      "text/plain": [
       "plot without title"
      ]
     },
     "metadata": {
      "image/png": {
       "height": 420,
       "width": 420
      }
     },
     "output_type": "display_data"
    }
   ],
   "source": [
    "ingredients = c(1,2,3,4,5,\n",
    " 3,5,1,4,2,\n",
    " 2,1,3,5,4,\n",
    " 4,3,5,2,1,\n",
    " 5,4,2,1,3)\n",
    "\n",
    "plot(ingredients, data4.22.aov.res,\n",
    " xlab = \"ingredients\", ylab = \"Residuals\", pch = 0)\n",
    " abline(h = 0)"
   ]
  },
  {
   "cell_type": "code",
   "execution_count": null,
   "metadata": {},
   "outputs": [
    {
     "data": {
      "image/png": "[encoded data removed]",
      "text/plain": [
       "plot without title"
      ]
     },
     "metadata": {
      "image/png": {
       "height": 420,
       "width": 420
      }
     },
     "output_type": "display_data"
    }
   ],
   "source": [
    " plot(as.numeric(data4.22$batch), data4.22.aov.res,\n",
    " xlab = \"Batch(block)\", ylab = \"Residuals\", pch = 0)\n",
    " abline(h = 0)"
   ]
  },
  {
   "cell_type": "code",
   "execution_count": null,
   "metadata": {},
   "outputs": [
    {
     "data": {
      "image/png": "[encoded data removed]",
      "text/plain": [
       "plot without title"
      ]
     },
     "metadata": {
      "image/png": {
       "height": 420,
       "width": 420
      }
     },
     "output_type": "display_data"
    }
   ],
   "source": [
    " plot(as.numeric(data4.22$day), data4.22.aov.res,\n",
    " xlab = \"Batch(block)\", ylab = \"Residuals\", pch = 0)\n",
    " abline(h = 0)"
   ]
  },
  {
   "cell_type": "markdown",
   "metadata": {
    "vscode": {
     "languageId": "r"
    }
   },
   "source": [
    "From residual analysis, we can see that the model is **adequate**.<br>\n",
    "We can conclude that the difference does exist substantailly."
   ]
  }
 ],
 "metadata": {
  "kernelspec": {
   "display_name": "Python 3",
   "language": "python",
   "name": "python3"
  },
  "language_info": {
   "codemirror_mode": {
    "name": "ipython",
    "version": 3
   },
   "file_extension": ".py",
   "mimetype": "text/x-python",
   "name": "python",
   "nbconvert_exporter": "python",
   "pygments_lexer": "ipython3",
   "version": "3.10.7"
  }
 },
 "nbformat": 4,
 "nbformat_minor": 2
}
