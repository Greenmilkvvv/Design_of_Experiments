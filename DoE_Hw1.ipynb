{
 "cells": [
  {
   "cell_type": "markdown",
   "metadata": {},
   "source": [
    "# Design of Experiments *Homework 1*\n",
    "\n",
    "> $$Abstract$$\n",
    "> \n",
    "> *This notebook is created to mark the first homework of Design of Experiments course.*\n",
    "> *The calculations are performed by Python, and the results are presented at once. The code is also provided for reference.*\n"
   ]
  },
  {
   "cell_type": "markdown",
   "metadata": {},
   "source": [
    "## problem 1.3\n",
    "> Suppose that you want to compare the growth of garden flowers with different conditions of sunlight, water, fertilizer, and soil conditions. Complete steps 1–3 of the guidelines for designing experiments in Section 1.4.\n",
    "\n",
    "$(Solution).$\n",
    "\n",
    "### 1.  Recognition of and statement of the problem:\n",
    "- **Problem Recognition**: Initially, it’s essential to define the objective of the experiment. In this scenario, the goal is to *compare the growth of garden flowers under varying conditions of sunlight, water, fertilizer, and soil*.\n",
    "- **Problem Statement**: The experiment aims to explore how different levels of sunlight, water, fertilizer, and soil conditions impact the growth of garden flowers.”\n",
    "- **Reason to Run the Experiment**: The experiment we are discussing is an obviously typical one for **Factor screening and Characterization**. It is usually important to learn which factors have the most influence on the response(s) of interest.\n",
    "\n",
    "### 2.  Selection of the response variable:\n",
    "- **Response Variable Selection**: The response variable is the outcome that will be measured to evaluate the effects of the different conditions on flower growth.\n",
    "- **Choosing the Response Variable**: Although the aim of this experiment if very clear, possible response variables in this experiment could include the **growth height of flowers, biomass (like dry weight), number of flowers produced, or the time to flowering**. The concrete selection of response variables should rely on the experiment’s objectives and available resources.\n",
    "\n",
    "### 3.  Choice of factors, levels, and ranges:\n",
    "\n",
    "-  **Factor Selection**: In this section, we have to take varieties  of factors into consideration. \n",
    "\t- **Potential Design Factor**: \n",
    "\t\t1. **Design Factor**: **Conditions of sunlight, water, fertilizer, and soil conditions**. These factors are mentioned in the question. I believe in experimental environments, these factors are obviously controllable with assistance of modern technical facilities. So I would rather list them in **design factor**.  \n",
    "\t\t2. **Held Constant Factor**: We want to keep it briefly the same way in one period, making sure it makes no difference to the response. When one important factor in the list of Potential Design Factor varies, we’d better stay others the same.\n",
    "\t\t3. **Allowed-to-vary Factor**: To those factors whose changes have little influence to our response variable. In this experiment, it might be, for example, the wind speed.\n",
    "\t- **Nuisance Factor**: We have to cautiously avoid its variability. For instance, environment temperature is something influential but we don’t want to treat as a design factor.\n",
    "-  **Levels and Range Selection**: Each factor’s different settings or conditions are known as levels. Usually we keep the number of the level low. It does depend on the experimental resources but **Two Levels Experiment Works Efficiently**. And it’s necessary to establish different levels for each factor within a **relatively broad region of interests** to make the experiment reliable and compelling."
   ]
  },
  {
   "cell_type": "markdown",
   "metadata": {},
   "source": [
    "## problem 1.9\n",
    "> Why is **randomization** important in an experiment?\n",
    "\n",
    "$(Solution).$\n",
    "\n",
    "  *Randomization is crucial in experiments because it **helps ensure that all groups are comparable at the start**. By assigning participants to different groups using random methods, researchers can be more confident that any differences observed later are due to the treatment itself, not pre-existing differences between groups, allowing researchers to **clarify the effect of the independent variable on the dependent variable** by ensuring that other variables are evenly distributed across treatment conditions.*\n",
    " \n",
    "  *As a result, it improves the accuracy in analyzing the effect of an intervention and the ability to **control for both known and unknown variables** that could otherwise confound the analysis.*\n",
    " ***\n",
    " ## problem 2.16\n",
    " > The breaking strength of a fiber is required to be at least 150 psi. Past experience has indicated that the standard deviation of breaking strength is $\\sigma$ = 3 psi. A random sample of four specimens is tested, and the results are $y_1 = 145, y_2 = 153, y_3 = 150, \\text{and } y_4 = 147$.\n",
    " > - (a) State the hypotheses that you think should be tested in this experiment.\n",
    " > - (b) Test these hypotheses using $\\alpha$=0.05. What are your conclusions?\n",
    " > - (c) Find the P-value for the test in part(b).\n",
    " > - (d) Construct a  95 percent confidence interval on the mean breaking strength.\n",
    "\n",
    " $(Solution).$\n"
   ]
  },
  {
   "cell_type": "markdown",
   "metadata": {},
   "source": [
    "### (a)\n",
    " Now we create the following **Hypothesis Testing**:\n",
    " $$H_0:\\mu \\geq 150{\\ }\\text{  vs  }{\\ }\n",
    " H_1 = \\mu < 150 $$"
   ]
  },
  {
   "cell_type": "markdown",
   "metadata": {},
   "source": [
    "### (b)\n",
    "We bulid up the test statistic:\n",
    "$$u = \\frac{\\sqrt{n}({\\bar{y}-\\mu_0})}{\\sigma}$$"
   ]
  },
  {
   "cell_type": "code",
   "execution_count": 83,
   "metadata": {},
   "outputs": [
    {
     "data": {
      "text/plain": [
       "-0.8333333333333334"
      ]
     },
     "execution_count": 83,
     "metadata": {},
     "output_type": "execute_result"
    }
   ],
   "source": [
    "import numpy as np\n",
    "import pandas as pd\n",
    "\n",
    "sample = np.array([145,153,150,147])\n",
    "# We build up the statistic.\n",
    "sample_mean = sample.mean()\n",
    "mu0, variable_std = 150, 3\n",
    "sample_stat = ((sample_mean - 150) * np.sqrt(4) )/variable_std\n",
    "\n",
    "sample_stat"
   ]
  },
  {
   "cell_type": "code",
   "execution_count": 84,
   "metadata": {},
   "outputs": [
    {
     "data": {
      "text/plain": [
       "(-1.6426150530552837, False)"
      ]
     },
     "execution_count": 84,
     "metadata": {},
     "output_type": "execute_result"
    }
   ],
   "source": [
    "# Now we're gonna try to compare this statistic to the 0.05 quantile of Normalized Distribution\n",
    "data = np.random.normal(0, 1, 1000000)\n",
    "quantile = np.percentile(data, 5)\n",
    "\n",
    "quantile, sample_stat < quantile\n",
    "#Now it's inevident to decide to reject H0"
   ]
  },
  {
   "cell_type": "markdown",
   "metadata": {},
   "source": [
    "The statistic's value is -0.8333333, while the 0.05 **quantile of Normal Distribution** is **-1.6448536**. Since the statistic is bigger than the quantile, we fail to reject $H_0$.  \n",
    "\n",
    "My conclusion is that: **$\\mu \\geq 150$**"
   ]
  },
  {
   "cell_type": "markdown",
   "metadata": {},
   "source": [
    "### (c)\n",
    "\n"
   ]
  },
  {
   "cell_type": "code",
   "execution_count": 85,
   "metadata": {},
   "outputs": [
    {
     "name": "stdout",
     "output_type": "stream",
     "text": [
      "Is the p-value less than 0.05?  False\n"
     ]
    }
   ],
   "source": [
    "proportion_under_stat = np.sum(data < sample_stat) / len(data)\n",
    "\n",
    "p_value = proportion_under_stat\n",
    "p_value\n",
    "print('Is the p-value less than 0.05? ', p_value < 0.05)\n",
    "# The p-value is 0.2068, which is greater than 0.05. \n",
    "# Therefore, we fail to reject the null hypothesis at the 0.05 significance level."
   ]
  },
  {
   "cell_type": "markdown",
   "metadata": {},
   "source": [
    "After getting the $\\text{p value}$, my conclusion remains ： $\\mu \\geq 150$"
   ]
  },
  {
   "cell_type": "code",
   "execution_count": 86,
   "metadata": {},
   "outputs": [
    {
     "data": {
      "text/plain": [
       "147.5360774204171"
      ]
     },
     "execution_count": 86,
     "metadata": {},
     "output_type": "execute_result"
    }
   ],
   "source": [
    "quantile * 3 / np.sqrt(4) + 150"
   ]
  },
  {
   "cell_type": "markdown",
   "metadata": {},
   "source": [
    "### (d)\n",
    "Since we've failed to reject $H_0$, we can use the sample mean to construct a 95% confidence interval on the mean breaking strength. The meaning for a 95% confidence interval with **mean breaking strength** is:\n",
    "\n",
    "$$P(u = \\frac{\\sqrt{n}({\\bar{y}-\\mu_0})}{\\sigma}\\geq u_{0.05})=P(\\bar{y}\\geq u_{0.05}\\frac{\\sigma}{\\sqrt{n}}+\\mu_0)=0.95$$\n",
    "\n",
    "In other word, with u_{0.05}= $-1.64$ , the interval is: \n",
    "$$\\bar{y} \\geq u_{0.05}\\frac{\\sigma}{\\sqrt{n}}+\\mu_0= -1.64\\frac{3}{\\sqrt{4}}+150=147.537$$\n",
    "The 95% confidence interval with mean breaking strength $\\bar{y}$ is $$\\bar{y} \\geq 147.537$$\n"
   ]
  },
  {
   "cell_type": "markdown",
   "metadata": {},
   "source": [
    "## problem 2.26\n",
    "> The following are the burning times (in minutes) of chemical flares of two different formulations. The design engineers are interested in both the mean and variance of the burning times. \n",
    "> ***\n",
    "> > $$\\text{table will be shown bellow}$$\n",
    "> ***\n",
    "> - (a) Test the hypothesis that the two variances are equal. Use $\\alpha =$ 0.05.\n",
    "> \n",
    "> - (b) Using the results of (a), test the hypothesis that the mean burning times are equal. Use $\\alpha =$ 0.05. What is the P-value for this test?\n",
    "> \n",
    "> - (c) Discuss the role of the normality assumption in this problem. Check the assumption of normality for both types of flares."
   ]
  },
  {
   "cell_type": "code",
   "execution_count": 87,
   "metadata": {},
   "outputs": [],
   "source": [
    "import numpy as np\n",
    "import pandas as pd\n",
    "\n",
    "df_burning_time = pd.read_excel(\"D:\\A-试验设计\\data.xlsx\")[['Problem 26', 'Unnamed: 8']]"
   ]
  },
  {
   "cell_type": "code",
   "execution_count": 88,
   "metadata": {},
   "outputs": [
    {
     "data": {
      "text/html": [
       "<div>\n",
       "<style scoped>\n",
       "    .dataframe tbody tr th:only-of-type {\n",
       "        vertical-align: middle;\n",
       "    }\n",
       "\n",
       "    .dataframe tbody tr th {\n",
       "        vertical-align: top;\n",
       "    }\n",
       "\n",
       "    .dataframe thead th {\n",
       "        text-align: right;\n",
       "    }\n",
       "</style>\n",
       "<table border=\"1\" class=\"dataframe\">\n",
       "  <thead>\n",
       "    <tr style=\"text-align: right;\">\n",
       "      <th></th>\n",
       "      <th>Problem 26</th>\n",
       "      <th>Unnamed: 8</th>\n",
       "    </tr>\n",
       "  </thead>\n",
       "  <tbody>\n",
       "    <tr>\n",
       "      <th>2</th>\n",
       "      <td>65</td>\n",
       "      <td>64</td>\n",
       "    </tr>\n",
       "    <tr>\n",
       "      <th>3</th>\n",
       "      <td>81</td>\n",
       "      <td>71</td>\n",
       "    </tr>\n",
       "    <tr>\n",
       "      <th>4</th>\n",
       "      <td>57</td>\n",
       "      <td>83</td>\n",
       "    </tr>\n",
       "    <tr>\n",
       "      <th>5</th>\n",
       "      <td>66</td>\n",
       "      <td>59</td>\n",
       "    </tr>\n",
       "    <tr>\n",
       "      <th>6</th>\n",
       "      <td>82</td>\n",
       "      <td>65</td>\n",
       "    </tr>\n",
       "    <tr>\n",
       "      <th>7</th>\n",
       "      <td>82</td>\n",
       "      <td>56</td>\n",
       "    </tr>\n",
       "    <tr>\n",
       "      <th>8</th>\n",
       "      <td>67</td>\n",
       "      <td>69</td>\n",
       "    </tr>\n",
       "    <tr>\n",
       "      <th>9</th>\n",
       "      <td>59</td>\n",
       "      <td>74</td>\n",
       "    </tr>\n",
       "    <tr>\n",
       "      <th>10</th>\n",
       "      <td>75</td>\n",
       "      <td>82</td>\n",
       "    </tr>\n",
       "    <tr>\n",
       "      <th>11</th>\n",
       "      <td>70</td>\n",
       "      <td>79</td>\n",
       "    </tr>\n",
       "  </tbody>\n",
       "</table>\n",
       "</div>"
      ],
      "text/plain": [
       "   Problem 26 Unnamed: 8\n",
       "2          65         64\n",
       "3          81         71\n",
       "4          57         83\n",
       "5          66         59\n",
       "6          82         65\n",
       "7          82         56\n",
       "8          67         69\n",
       "9          59         74\n",
       "10         75         82\n",
       "11         70         79"
      ]
     },
     "execution_count": 88,
     "metadata": {},
     "output_type": "execute_result"
    }
   ],
   "source": [
    "# do some simple handling\n",
    "df_burning_time = df_burning_time.dropna(axis = 0)\n",
    "df_burning_time.drop(index = [1], inplace = True)\n",
    "df_burning_time"
   ]
  },
  {
   "cell_type": "code",
   "execution_count": 89,
   "metadata": {},
   "outputs": [
    {
     "data": {
      "text/html": [
       "<div>\n",
       "<style scoped>\n",
       "    .dataframe tbody tr th:only-of-type {\n",
       "        vertical-align: middle;\n",
       "    }\n",
       "\n",
       "    .dataframe tbody tr th {\n",
       "        vertical-align: top;\n",
       "    }\n",
       "\n",
       "    .dataframe thead th {\n",
       "        text-align: right;\n",
       "    }\n",
       "</style>\n",
       "<table border=\"1\" class=\"dataframe\">\n",
       "  <thead>\n",
       "    <tr style=\"text-align: right;\">\n",
       "      <th></th>\n",
       "      <th>Type1</th>\n",
       "      <th>Type2</th>\n",
       "    </tr>\n",
       "  </thead>\n",
       "  <tbody>\n",
       "    <tr>\n",
       "      <th>0</th>\n",
       "      <td>65</td>\n",
       "      <td>64</td>\n",
       "    </tr>\n",
       "    <tr>\n",
       "      <th>1</th>\n",
       "      <td>81</td>\n",
       "      <td>71</td>\n",
       "    </tr>\n",
       "    <tr>\n",
       "      <th>2</th>\n",
       "      <td>57</td>\n",
       "      <td>83</td>\n",
       "    </tr>\n",
       "    <tr>\n",
       "      <th>3</th>\n",
       "      <td>66</td>\n",
       "      <td>59</td>\n",
       "    </tr>\n",
       "    <tr>\n",
       "      <th>4</th>\n",
       "      <td>82</td>\n",
       "      <td>65</td>\n",
       "    </tr>\n",
       "    <tr>\n",
       "      <th>5</th>\n",
       "      <td>82</td>\n",
       "      <td>56</td>\n",
       "    </tr>\n",
       "    <tr>\n",
       "      <th>6</th>\n",
       "      <td>67</td>\n",
       "      <td>69</td>\n",
       "    </tr>\n",
       "    <tr>\n",
       "      <th>7</th>\n",
       "      <td>59</td>\n",
       "      <td>74</td>\n",
       "    </tr>\n",
       "    <tr>\n",
       "      <th>8</th>\n",
       "      <td>75</td>\n",
       "      <td>82</td>\n",
       "    </tr>\n",
       "    <tr>\n",
       "      <th>9</th>\n",
       "      <td>70</td>\n",
       "      <td>79</td>\n",
       "    </tr>\n",
       "  </tbody>\n",
       "</table>\n",
       "</div>"
      ],
      "text/plain": [
       "  Type1 Type2\n",
       "0    65    64\n",
       "1    81    71\n",
       "2    57    83\n",
       "3    66    59\n",
       "4    82    65\n",
       "5    82    56\n",
       "6    67    69\n",
       "7    59    74\n",
       "8    75    82\n",
       "9    70    79"
      ]
     },
     "execution_count": 89,
     "metadata": {},
     "output_type": "execute_result"
    }
   ],
   "source": [
    "df_burning_time.reset_index(drop = True, inplace = True)\n",
    "df_burning_time.columns = ['Type1', 'Type2']\n",
    "x1,x2 = df_burning_time['Type1'], df_burning_time['Type2']\n",
    "df_burning_time"
   ]
  },
  {
   "cell_type": "markdown",
   "metadata": {},
   "source": [
    "**So that's our data.**\n",
    "$$\\text{Happy Hunting.}$$"
   ]
  },
  {
   "cell_type": "markdown",
   "metadata": {},
   "source": [
    "### (a).\n",
    "Since we are order to test the hypothesis that 'the two variances are equal', let's set upsome parameters:\n",
    "- $\\mu_1, \\mu_2:$ the mean burning times of two types of flares.\n",
    "- $\\sigma_1^2, \\sigma_2^2:$ the variance of burning times of two types of flares.\n",
    "  \n",
    "So our test becomes:\n",
    "$$\n",
    "H_0: \\sigma^2_1 = \\sigma^2_2 \\text{  vs  } H_1:\\sigma^2_1 \\neq \\sigma^2_2\n",
    "$$\n",
    "\n",
    "To do this, we would use F-test:$$F_0=\\frac{S_1^2}{S_2^2},$$\n",
    "with $S_1^2 = \\frac{1}{n-1} \\Sigma^n_{(i=1)} (x_{1,i} - \\bar{x_1})^2\\text{ and }\n",
    "S_2^2 = \\frac{1}{n-1} \\Sigma^n_{(i=1)} (x_{2,i} - \\bar{x_2})^2$, $n=10$.\n",
    "\n",
    "The associated distribution is $F(9,9)$, so we now calculate the $F_{0.025,9,9}$ and $F_{0.975,9,9}$:\n",
    "\n"
   ]
  },
  {
   "cell_type": "code",
   "execution_count": 90,
   "metadata": {},
   "outputs": [
    {
     "name": "stdout",
     "output_type": "stream",
     "text": [
      "The 95% confidence interval of F is [0.2484956800767295, 4.023032082717774]\n"
     ]
    }
   ],
   "source": [
    "# prepare the quantiles\n",
    "F_distribution = np.random.f(9, 9, 1000000)\n",
    "F_025 = np.percentile(F_distribution, 2.5)\n",
    "F_075 = np.percentile(F_distribution,97.5)\n",
    "\n",
    "print(f'The 95% confidence interval of F is [{F_025}, {F_075}]')\n"
   ]
  },
  {
   "cell_type": "code",
   "execution_count": 91,
   "metadata": {},
   "outputs": [
    {
     "name": "stdout",
     "output_type": "stream",
     "text": [
      "The calculated F0 is 0.9782168186423505\n"
     ]
    }
   ],
   "source": [
    "# prepare the F0\n",
    "F0 = np.var(x1)/np.var(x2)\n",
    "print(f'The calculated F0 is {F0}')"
   ]
  },
  {
   "cell_type": "code",
   "execution_count": 92,
   "metadata": {},
   "outputs": [
    {
     "name": "stdout",
     "output_type": "stream",
     "text": [
      "Is F0 in (F0.025,F0.975)?\n",
      " True !\n"
     ]
    }
   ],
   "source": [
    "print(\"Is F0 in (F0.025,F0.975)?\\n\", F_025 < F0 < F_075, \"!\")"
   ]
  },
  {
   "cell_type": "markdown",
   "metadata": {},
   "source": [
    "For our statistic $F_0$, the rejection region is $(0,F_{0.025})\\cup(F_{0.975}, +\\infty)$.\n",
    "So we fail to reject $H_0$.\n",
    "Finally we resonably conclude that the **two variances are equal**."
   ]
  },
  {
   "cell_type": "markdown",
   "metadata": {},
   "source": [
    "### (b)\n",
    "Since we have already concluded that variances are identical, we can use **t-test** to test the hypothesis that the mean burning times.\n",
    "The **test statistic** is:\n",
    "$$\n",
    "t_0 = \\frac{\\bar{x_1} - \\bar{x_2}}{S_p \\sqrt{\\frac{1}{n_1} + \\frac{1}{n_2}}}\n",
    "$$\n",
    "with\n",
    "$$\n",
    "S_p= \\frac{(n_1-1)S_1^2 + (n_2-1)S_2^2}{n_1 + n_2 - 2}, n_1,n_2=10\n",
    "$$\n",
    "\n",
    "Associatted to it, we get the test:\n",
    "$$\n",
    "H_0:\\mu_1 = \\mu_2 \\text{  vs  } H_1:\\mu_1 \\neq \\mu_2\n",
    "$$\n",
    "\n",
    "Note that the rejection region is $(0,t_{0.025,18})\\cup(t_{0.975,18}, +\\infty)$.\n",
    "\n",
    "Now let's calculate it."
   ]
  },
  {
   "cell_type": "code",
   "execution_count": 93,
   "metadata": {},
   "outputs": [
    {
     "name": "stdout",
     "output_type": "stream",
     "text": [
      "The calculated t0 is 0.04800768184369234\n"
     ]
    }
   ],
   "source": [
    "n1, n2 = 10, 10\n",
    "x1_mean, x2_mean = np.mean(x1), np.mean(x2)\n",
    "S1 = (1/(n1-1)) * np.sum((x1 - x1_mean)**2)\n",
    "S2 = (1/(n2-1)) * np.sum((x2 - x2_mean)**2)\n",
    "Sp = ((n1-1)*S1 + (n2-1)*S2)/(n1 + n2 - 2)\n",
    "t0 = (x1_mean - x2_mean)/np.sqrt(Sp*(1/n1 + 1/n2))\n",
    "\n",
    "print(f'The calculated t0 is {t0}')\n",
    "# prepare the quantiles"
   ]
  },
  {
   "cell_type": "code",
   "execution_count": 94,
   "metadata": {},
   "outputs": [
    {
     "name": "stdout",
     "output_type": "stream",
     "text": [
      "The 95% confidence interval of t is [-2.097161800460933, 2.103888149617667]\n",
      "\n",
      "Is statistic t0 in rejection region? False\n"
     ]
    }
   ],
   "source": [
    "# calculate the quantiles\n",
    "t_distribution = np.random.standard_t(18, 1000000)\n",
    "t_025 = np.percentile(t_distribution, 2.5)\n",
    "t_075 = np.percentile(t_distribution, 97.5)\n",
    "print(f'The 95% confidence interval of t is [{t_025}, {t_075}]')\n",
    "\n",
    "# to judge if t0 in rejection region\n",
    "judgement = t0 < t_025 or t0 > t_075\n",
    "print(\"\\nIs statistic t0 in rejection region?\",\\\n",
    "      judgement)"
   ]
  },
  {
   "cell_type": "markdown",
   "metadata": {},
   "source": [
    "We fail to reject $H_0$, so we conclude that the **two means are equal**."
   ]
  },
  {
   "cell_type": "markdown",
   "metadata": {},
   "source": [
    "### (c)\n",
    "\n",
    "#### Discussion of Normality\n",
    "**The normality is the most fundamental hypothesis, which every calculationg step relies essentially on.**    \n",
    "\n",
    "Its greatest contribution to the analysis is that it allows us to use the **central limit theorem** to approximate the distribution of the sample mean and sample variance, providing **quantitative form of variances** for us to apply to calculations.\n",
    "\n",
    "Besides, it also impressively simulates the **real world** in which we are dealing with, which is **continuous** and **uncountable**."
   ]
  },
  {
   "cell_type": "markdown",
   "metadata": {},
   "source": [
    "#### Test of Normality\n",
    "\n",
    "We can use **Shapiro-Wilk test** to test the normality of the data.\n",
    "The null hypothesis is that the data is normally distributed, and the alternative hypothesis is that the data is not normally distributed.\n",
    "$$\n",
    "H_0 : \\text{data Type1 is normally distributed}\n",
    "$$\n",
    "$$\n",
    "\\text{vs.}\n",
    "$$\n",
    "$$\n",
    "H_1 : \\text{data Type1 is not normally distributed}\n",
    "$$"
   ]
  },
  {
   "cell_type": "code",
   "execution_count": 95,
   "metadata": {},
   "outputs": [
    {
     "data": {
      "text/plain": [
       "ShapiroResult(statistic=0.9135860204696655, pvalue=0.3065428137779236)"
      ]
     },
     "execution_count": 95,
     "metadata": {},
     "output_type": "execute_result"
    }
   ],
   "source": [
    "from scipy import stats\n",
    "\n",
    "stats.shapiro(x1)"
   ]
  },
  {
   "cell_type": "code",
   "execution_count": 96,
   "metadata": {},
   "outputs": [
    {
     "data": {
      "text/plain": [
       "ShapiroResult(statistic=0.9547799229621887, pvalue=0.7251082062721252)"
      ]
     },
     "execution_count": 96,
     "metadata": {},
     "output_type": "execute_result"
    }
   ],
   "source": [
    "stats.shapiro(x2)\n"
   ]
  },
  {
   "cell_type": "markdown",
   "metadata": {},
   "source": [
    "The P-values of **Type1** are too big for us to accept the null hypothesis, so we conclude that the data is **not normally distributed**.\n",
    "Now we find the original hypothesis is not so reliable, which instructs us to reject it.\n",
    "\n",
    "In the similer way, we can get a more surprisingly big P-value in the Shapiro-Wilk test for **Type2**, we reasonably conclude that the data is **not normally distributed** too. **(The process of testing Type2 is in a form like that of the Type1 test. We just spare the time of it.)**"
   ]
  },
  {
   "cell_type": "markdown",
   "metadata": {},
   "source": [
    "## problem 2.37\n",
    ">  In semiconductor manufacturing wet chemical etching is often used to remove silicon from the backs of wafers prior to metalization. The etch rate is an important characteristic of this process. Two different etching solutions are being evaluated. Eight randomly selected wafers have been etched in each solution, and the observed etch rates (in mils/min) are as follows.\n",
    "> ***\n",
    "> $$\\text{table will be shown below}$$\n",
    "> ***\n",
    "> - (a) Do the data indicate that the claim that both solutions have the same mean etch rate is valid? Use \t$\\alpha$ = 0.05 and assume equal variances.\n",
    "> \n",
    "> - (b) Find a 95 percent confidence interval on the difference in mean etch rates.\n",
    "> \n",
    "> - (c) Use normal probability plots to investigate the adequacy of the assumptions of normality and equal variances."
   ]
  },
  {
   "cell_type": "code",
   "execution_count": 97,
   "metadata": {},
   "outputs": [
    {
     "data": {
      "text/html": [
       "<div>\n",
       "<style scoped>\n",
       "    .dataframe tbody tr th:only-of-type {\n",
       "        vertical-align: middle;\n",
       "    }\n",
       "\n",
       "    .dataframe tbody tr th {\n",
       "        vertical-align: top;\n",
       "    }\n",
       "\n",
       "    .dataframe thead th {\n",
       "        text-align: right;\n",
       "    }\n",
       "</style>\n",
       "<table border=\"1\" class=\"dataframe\">\n",
       "  <thead>\n",
       "    <tr style=\"text-align: right;\">\n",
       "      <th></th>\n",
       "      <th>Problem 37</th>\n",
       "      <th>Unnamed: 35</th>\n",
       "    </tr>\n",
       "  </thead>\n",
       "  <tbody>\n",
       "    <tr>\n",
       "      <th>0</th>\n",
       "      <td>NaN</td>\n",
       "      <td>NaN</td>\n",
       "    </tr>\n",
       "    <tr>\n",
       "      <th>1</th>\n",
       "      <td>Solution 1</td>\n",
       "      <td>Solution 2</td>\n",
       "    </tr>\n",
       "    <tr>\n",
       "      <th>2</th>\n",
       "      <td>9.9</td>\n",
       "      <td>10.2</td>\n",
       "    </tr>\n",
       "    <tr>\n",
       "      <th>3</th>\n",
       "      <td>9.4</td>\n",
       "      <td>10</td>\n",
       "    </tr>\n",
       "    <tr>\n",
       "      <th>4</th>\n",
       "      <td>10</td>\n",
       "      <td>10.7</td>\n",
       "    </tr>\n",
       "    <tr>\n",
       "      <th>5</th>\n",
       "      <td>10.3</td>\n",
       "      <td>10.5</td>\n",
       "    </tr>\n",
       "    <tr>\n",
       "      <th>6</th>\n",
       "      <td>10.6</td>\n",
       "      <td>10.6</td>\n",
       "    </tr>\n",
       "    <tr>\n",
       "      <th>7</th>\n",
       "      <td>10.3</td>\n",
       "      <td>10.2</td>\n",
       "    </tr>\n",
       "    <tr>\n",
       "      <th>8</th>\n",
       "      <td>9.3</td>\n",
       "      <td>10.4</td>\n",
       "    </tr>\n",
       "    <tr>\n",
       "      <th>9</th>\n",
       "      <td>9.8</td>\n",
       "      <td>10.3</td>\n",
       "    </tr>\n",
       "    <tr>\n",
       "      <th>10</th>\n",
       "      <td>NaN</td>\n",
       "      <td>NaN</td>\n",
       "    </tr>\n",
       "    <tr>\n",
       "      <th>11</th>\n",
       "      <td>NaN</td>\n",
       "      <td>NaN</td>\n",
       "    </tr>\n",
       "    <tr>\n",
       "      <th>12</th>\n",
       "      <td>NaN</td>\n",
       "      <td>NaN</td>\n",
       "    </tr>\n",
       "    <tr>\n",
       "      <th>13</th>\n",
       "      <td>NaN</td>\n",
       "      <td>NaN</td>\n",
       "    </tr>\n",
       "    <tr>\n",
       "      <th>14</th>\n",
       "      <td>NaN</td>\n",
       "      <td>NaN</td>\n",
       "    </tr>\n",
       "    <tr>\n",
       "      <th>15</th>\n",
       "      <td>NaN</td>\n",
       "      <td>NaN</td>\n",
       "    </tr>\n",
       "    <tr>\n",
       "      <th>16</th>\n",
       "      <td>NaN</td>\n",
       "      <td>NaN</td>\n",
       "    </tr>\n",
       "    <tr>\n",
       "      <th>17</th>\n",
       "      <td>NaN</td>\n",
       "      <td>NaN</td>\n",
       "    </tr>\n",
       "    <tr>\n",
       "      <th>18</th>\n",
       "      <td>NaN</td>\n",
       "      <td>NaN</td>\n",
       "    </tr>\n",
       "    <tr>\n",
       "      <th>19</th>\n",
       "      <td>NaN</td>\n",
       "      <td>NaN</td>\n",
       "    </tr>\n",
       "    <tr>\n",
       "      <th>20</th>\n",
       "      <td>NaN</td>\n",
       "      <td>NaN</td>\n",
       "    </tr>\n",
       "    <tr>\n",
       "      <th>21</th>\n",
       "      <td>NaN</td>\n",
       "      <td>NaN</td>\n",
       "    </tr>\n",
       "  </tbody>\n",
       "</table>\n",
       "</div>"
      ],
      "text/plain": [
       "    Problem 37 Unnamed: 35\n",
       "0          NaN         NaN\n",
       "1   Solution 1  Solution 2\n",
       "2          9.9        10.2\n",
       "3          9.4          10\n",
       "4           10        10.7\n",
       "5         10.3        10.5\n",
       "6         10.6        10.6\n",
       "7         10.3        10.2\n",
       "8          9.3        10.4\n",
       "9          9.8        10.3\n",
       "10         NaN         NaN\n",
       "11         NaN         NaN\n",
       "12         NaN         NaN\n",
       "13         NaN         NaN\n",
       "14         NaN         NaN\n",
       "15         NaN         NaN\n",
       "16         NaN         NaN\n",
       "17         NaN         NaN\n",
       "18         NaN         NaN\n",
       "19         NaN         NaN\n",
       "20         NaN         NaN\n",
       "21         NaN         NaN"
      ]
     },
     "execution_count": 97,
     "metadata": {},
     "output_type": "execute_result"
    }
   ],
   "source": [
    "df_etch = pd.read_excel(\"D:\\A-试验设计\\data.xlsx\")[['Problem 37', 'Unnamed: 35']]\n",
    "df_etch"
   ]
  },
  {
   "cell_type": "code",
   "execution_count": 98,
   "metadata": {},
   "outputs": [
    {
     "name": "stderr",
     "output_type": "stream",
     "text": [
      "C:\\Users\\杉嶋桐惠\\AppData\\Local\\Temp\\ipykernel_17796\\3123949187.py:2: SettingWithCopyWarning: \n",
      "A value is trying to be set on a copy of a slice from a DataFrame\n",
      "\n",
      "See the caveats in the documentation: https://pandas.pydata.org/pandas-docs/stable/user_guide/indexing.html#returning-a-view-versus-a-copy\n",
      "  df_etch.drop(index= 1, inplace = True)\n"
     ]
    }
   ],
   "source": [
    "df_etch = df_etch.dropna(axis=0)\n",
    "df_etch.drop(index= 1, inplace = True)"
   ]
  },
  {
   "cell_type": "code",
   "execution_count": 99,
   "metadata": {},
   "outputs": [],
   "source": [
    "df_etch.columns = ['Solution1', 'Solution2']\n",
    "df_etch.reset_index(drop = True,inplace = True)\n"
   ]
  },
  {
   "cell_type": "code",
   "execution_count": 100,
   "metadata": {},
   "outputs": [
    {
     "data": {
      "text/html": [
       "<div>\n",
       "<style scoped>\n",
       "    .dataframe tbody tr th:only-of-type {\n",
       "        vertical-align: middle;\n",
       "    }\n",
       "\n",
       "    .dataframe tbody tr th {\n",
       "        vertical-align: top;\n",
       "    }\n",
       "\n",
       "    .dataframe thead th {\n",
       "        text-align: right;\n",
       "    }\n",
       "</style>\n",
       "<table border=\"1\" class=\"dataframe\">\n",
       "  <thead>\n",
       "    <tr style=\"text-align: right;\">\n",
       "      <th></th>\n",
       "      <th>Solution1</th>\n",
       "      <th>Solution2</th>\n",
       "    </tr>\n",
       "  </thead>\n",
       "  <tbody>\n",
       "    <tr>\n",
       "      <th>0</th>\n",
       "      <td>9.9</td>\n",
       "      <td>10.2</td>\n",
       "    </tr>\n",
       "    <tr>\n",
       "      <th>1</th>\n",
       "      <td>9.4</td>\n",
       "      <td>10</td>\n",
       "    </tr>\n",
       "    <tr>\n",
       "      <th>2</th>\n",
       "      <td>10</td>\n",
       "      <td>10.7</td>\n",
       "    </tr>\n",
       "    <tr>\n",
       "      <th>3</th>\n",
       "      <td>10.3</td>\n",
       "      <td>10.5</td>\n",
       "    </tr>\n",
       "    <tr>\n",
       "      <th>4</th>\n",
       "      <td>10.6</td>\n",
       "      <td>10.6</td>\n",
       "    </tr>\n",
       "    <tr>\n",
       "      <th>5</th>\n",
       "      <td>10.3</td>\n",
       "      <td>10.2</td>\n",
       "    </tr>\n",
       "    <tr>\n",
       "      <th>6</th>\n",
       "      <td>9.3</td>\n",
       "      <td>10.4</td>\n",
       "    </tr>\n",
       "    <tr>\n",
       "      <th>7</th>\n",
       "      <td>9.8</td>\n",
       "      <td>10.3</td>\n",
       "    </tr>\n",
       "  </tbody>\n",
       "</table>\n",
       "</div>"
      ],
      "text/plain": [
       "  Solution1 Solution2\n",
       "0       9.9      10.2\n",
       "1       9.4        10\n",
       "2        10      10.7\n",
       "3      10.3      10.5\n",
       "4      10.6      10.6\n",
       "5      10.3      10.2\n",
       "6       9.3      10.4\n",
       "7       9.8      10.3"
      ]
     },
     "execution_count": 100,
     "metadata": {},
     "output_type": "execute_result"
    }
   ],
   "source": [
    "df_etch"
   ]
  },
  {
   "cell_type": "markdown",
   "metadata": {},
   "source": [
    "Now we get the dataset. We can start to do the analysis.\n",
    "\n",
    "### (a).\n",
    "Now we're given the conveniance of using the variance, with the aim to help analyze whether the means of two groups are identical.\n",
    "We build the null hypothesis and the alternative hypothesis.\n",
    "$$\n",
    "H_0 : \\mu_1 = \\mu_2\n",
    "\n",
    "\\text{  vs.  }\n",
    "\n",
    "H_1 : \\mu_1 \\neq \\mu_2\n",
    "$$\n",
    "\n",
    "We use the **t-test** to test the null hypothesis. Just give it to Python."
   ]
  },
  {
   "cell_type": "code",
   "execution_count": 101,
   "metadata": {},
   "outputs": [],
   "source": [
    "sol1 = list(df_etch['Solution1'])\n",
    "sol2 = list(df_etch['Solution2'])"
   ]
  },
  {
   "cell_type": "code",
   "execution_count": 102,
   "metadata": {},
   "outputs": [
    {
     "name": "stdout",
     "output_type": "stream",
     "text": [
      "The t-statistic is -2.958379486280449\n",
      "The p-value is 0.021153660432150667\n"
     ]
    }
   ],
   "source": [
    "# ttest_rel() is a method for related samples\n",
    "t_statistic, p_value = stats.ttest_rel(sol1, sol2)\n",
    "print(\"The t-statistic is\", t_statistic)\n",
    "print(\"The p-value is\", p_value)"
   ]
  },
  {
   "cell_type": "markdown",
   "metadata": {},
   "source": [
    "$\\alpha = 0.05 > \\text{p-value} = 0.0211$, and we can reject the null hypothesis. In this case we conclude that the means of two groups are **inequal**.\n",
    "\n",
    "### (b)\n",
    "Given that $\\bar{x_1} - \\bar{x_2}$ to be known, let's set the \n",
    "$$H_0: \\mu_{d} = \\bar{x_1} - \\bar{x_2}\\text{ vs }H_1: \\mu_{d} \\neq \\bar{x_1} - \\bar{x_2}$$\n",
    "\n",
    "We can use the T-test:\n"
   ]
  },
  {
   "cell_type": "code",
   "execution_count": 103,
   "metadata": {},
   "outputs": [
    {
     "data": {
      "text/plain": [
       "ConfidenceInterval(low=-0.7422100686592844, high=-0.08278993134071444)"
      ]
     },
     "execution_count": 103,
     "metadata": {},
     "output_type": "execute_result"
    }
   ],
   "source": [
    "difference = np.array(sol1) - np.array(sol2)\n",
    "difference_mean = np.mean(difference)\n",
    "\n",
    "rev = stats.ttest_1samp(difference, difference_mean)\n",
    "con_interval = rev.confidence_interval(confidence_level= 0.95)\n",
    "con_interval"
   ]
  },
  {
   "cell_type": "markdown",
   "metadata": {},
   "source": [
    "Based on the result of calculation, the 95 percent confidence interval is :\n",
    "$$(-0.742,-0.083)$$\n",
    "\n",
    "### (c)\n"
   ]
  },
  {
   "cell_type": "code",
   "execution_count": 104,
   "metadata": {},
   "outputs": [],
   "source": [
    "import matplotlib.pyplot as plt\n",
    "\n",
    "data_solution1 = df_etch['Solution1']\n",
    "data_solution2 = df_etch['Solution2']\n",
    "\n",
    "sol1_sorted = np.sort(data_solution1)\n",
    "sol2_sorted = np.sort(data_solution2)\n",
    "\n",
    "cummulative_prob1 = (np.arange(1, len(sol1_sorted) + 1) - 0.5)/ len(sol1_sorted)\n",
    "cummulative_prob2 = (np.arange(1, len(sol2_sorted) + 1) - 0.5)/ len(sol2_sorted)\n",
    "\n",
    "z_scores_1 = stats.norm.ppf(cummulative_prob1)\n",
    "z_scores_2 = stats.norm.ppf(cummulative_prob2)"
   ]
  },
  {
   "cell_type": "code",
   "execution_count": 105,
   "metadata": {},
   "outputs": [],
   "source": [
    "# try to analyze the linear relationship\n",
    "\n",
    "#import the necessary function\n",
    "from scipy.optimize import curve_fit\n",
    "\n",
    "def linear_model(x, m, c):\n",
    "    return m * x + c\n",
    "\n",
    "params1, covariance1 = curve_fit(linear_model, sol1_sorted, z_scores_1)\n",
    "params2, covariance2 = curve_fit(linear_model, sol2_sorted, z_scores_2)\n",
    "\n"
   ]
  },
  {
   "cell_type": "code",
   "execution_count": 106,
   "metadata": {},
   "outputs": [
    {
     "name": "stderr",
     "output_type": "stream",
     "text": [
      "C:\\Users\\杉嶋桐惠\\AppData\\Local\\Temp\\ipykernel_17796\\484527833.py:7: UserWarning: color is redundantly defined by the 'color' keyword argument and the fmt string \"r-\" (-> color='r'). The keyword argument will take precedence.\n",
      "  subplot_fig1.plot(sol1_sorted, linear_model(sol1_sorted, *params1), 'r-', color= 'black')\n",
      "C:\\Users\\杉嶋桐惠\\AppData\\Local\\Temp\\ipykernel_17796\\484527833.py:11: UserWarning: color is redundantly defined by the 'color' keyword argument and the fmt string \"r-\" (-> color='r'). The keyword argument will take precedence.\n",
      "  subplot_fig2.plot(sol2_sorted, linear_model(sol2_sorted, *params2), 'r-', color= 'black')\n"
     ]
    },
    {
     "data": {
      "image/png": "[encoded data removed]",
      "text/plain": [
       "<Figure size 1000x600 with 2 Axes>"
      ]
     },
     "metadata": {},
     "output_type": "display_data"
    }
   ],
   "source": [
    "# draw the Normal Probablity Plot\n",
    "\n",
    "plt.style.use('ggplot')\n",
    "fig = plt.figure(figsize=(10, 6))\n",
    "subplot_fig1 = fig.add_subplot(1, 2, 1)\n",
    "subplot_fig1.plot(sol1_sorted, z_scores_1, 'o', color= 'blue')\n",
    "subplot_fig1.plot(sol1_sorted, linear_model(sol1_sorted, *params1), 'r-', color= 'black')\n",
    "\n",
    "subplot_fig2 = fig.add_subplot(1, 2, 2)\n",
    "subplot_fig2.plot(sol2_sorted, z_scores_2, 'o', color= 'blue')\n",
    "subplot_fig2.plot(sol2_sorted, linear_model(sol2_sorted, *params2), 'r-', color= 'black')\n",
    "\n",
    "subplot_fig1.set_xlabel('$x_{j}$')\n",
    "subplot_fig2.set_xlabel('$x_{j}$')\n",
    "subplot_fig1.set_ylabel('$Z-score$')\n",
    "\n",
    "\n",
    "subplot_fig1.set_title('$Solution 1$')\n",
    "subplot_fig2.set_title('$Solution 2$')\n",
    "\n",
    "plt.grid(True)\n",
    "plt.show()"
   ]
  },
  {
   "cell_type": "markdown",
   "metadata": {},
   "source": [
    "With $\\text{Normal Probability Plot}$ clarified above, we can see that the data of both groups are basicly **linearly related** to the normal distribution.\n",
    "The blue scatters are the data in which you can find a obvious linear relation. And the black lines are the fitted lines, effectively emphasizing the linearity.\n"
   ]
  },
  {
   "cell_type": "code",
   "execution_count": 107,
   "metadata": {},
   "outputs": [],
   "source": [
    "# create an array to combine two solutions.\n",
    "\n",
    "general_solution = sol1_sorted - sol2_sorted\n",
    "general_solution = np.sort(general_solution, axis=0)\n",
    "\n",
    "cummulative_prob_general = (np.arange(1, len(general_solution) + 1) - 0.5)/ len(general_solution)\n",
    "general_z_scores = stats.norm.ppf(cummulative_prob_general)\n",
    "\n",
    "params3, covariance3 = curve_fit(linear_model, general_solution, general_z_scores)"
   ]
  },
  {
   "cell_type": "code",
   "execution_count": 108,
   "metadata": {},
   "outputs": [
    {
     "name": "stderr",
     "output_type": "stream",
     "text": [
      "C:\\Users\\杉嶋桐惠\\AppData\\Local\\Temp\\ipykernel_17796\\2547377926.py:5: UserWarning: color is redundantly defined by the 'color' keyword argument and the fmt string \"r-\" (-> color='r'). The keyword argument will take precedence.\n",
      "  subplot_fig3.plot(general_solution, linear_model(general_solution, *params3), 'r-', color= 'black')\n"
     ]
    },
    {
     "data": {
      "image/png": "[encoded data removed]",
      "text/plain": [
       "<Figure size 1000x1000 with 1 Axes>"
      ]
     },
     "metadata": {},
     "output_type": "display_data"
    }
   ],
   "source": [
    "fig_2 = plt.figure(figsize=(10, 10))\n",
    "subplot_fig3 = fig_2.add_subplot()\n",
    "\n",
    "subplot_fig3.plot(general_solution, general_z_scores, 'o', color= 'purple')\n",
    "subplot_fig3.plot(general_solution, linear_model(general_solution, *params3), 'r-', color= 'black')\n",
    "\n",
    "subplot_fig3.set_xlabel('$x_{j}$')\n",
    "subplot_fig3.set_ylabel('Z-score$')\n",
    "subplot_fig3.set_title('General')\n",
    "plt.grid(True)\n",
    "plt.show()"
   ]
  },
  {
   "cell_type": "markdown",
   "metadata": {},
   "source": [
    "Now you can see that:\n",
    "when we mix the two solutions together, the data are **still linearly related** to the normal distribution,according to the normal probablity plot. Only equality of variance can make sure it happens.\n",
    "\n",
    "So, we can conclude that our assumptions are basicly valid."
   ]
  },
  {
   "cell_type": "code",
   "execution_count": 112,
   "metadata": {},
   "outputs": [],
   "source": [
    "sol_together = np.concatenate((sol1_sorted, sol2_sorted))\n",
    "cummulative_prob_together = (np.arange(1, len(sol_together) + 1) - 0.5)/ len(sol_together)\n",
    "z_scores_together = stats.norm.ppf(cummulative_prob_together)\n",
    "\n",
    "params4, covariance4 = curve_fit(linear_model, sol_together, z_scores_together)"
   ]
  },
  {
   "cell_type": "code",
   "execution_count": 114,
   "metadata": {},
   "outputs": [
    {
     "name": "stderr",
     "output_type": "stream",
     "text": [
      "C:\\Users\\杉嶋桐惠\\AppData\\Local\\Temp\\ipykernel_17796\\3139862211.py:7: UserWarning: color is redundantly defined by the 'color' keyword argument and the fmt string \"r-\" (-> color='r'). The keyword argument will take precedence.\n",
      "  subplot_fig4.plot(sol_together, linear_model(sol_together, *params4), 'r-', color= 'black')\n"
     ]
    },
    {
     "data": {
      "image/png": "[encoded data removed]",
      "text/plain": [
       "<Figure size 1000x1000 with 1 Axes>"
      ]
     },
     "metadata": {},
     "output_type": "display_data"
    }
   ],
   "source": [
    "fig_3 = plt.figure(figsize=(10, 10))\n",
    "subplot_fig4 = fig_3.add_subplot()\n",
    "\n",
    "subplot_fig4.plot(sol1_sorted, z_scores_1, 'o', color= 'blue')\n",
    "subplot_fig4.plot(sol2_sorted, z_scores_2, 'o', color= 'blue')\n",
    "\n",
    "subplot_fig4.plot(sol_together, linear_model(sol_together, *params4), 'r-', color= 'black')\n",
    "\n",
    "plt.grid(True)\n",
    "plt.show()"
   ]
  },
  {
   "cell_type": "markdown",
   "metadata": {},
   "source": [
    "Still, to analyze the equality of variance is difficult based on just a picture.\n",
    "The **Normal probability plot** seems not a quite useful way."
   ]
  }
 ],
 "metadata": {
  "kernelspec": {
   "display_name": "Python 3",
   "language": "python",
   "name": "python3"
  },
  "language_info": {
   "codemirror_mode": {
    "name": "ipython",
    "version": 3
   },
   "file_extension": ".py",
   "mimetype": "text/x-python",
   "name": "python",
   "nbconvert_exporter": "python",
   "pygments_lexer": "ipython3",
   "version": "3.10.7"
  }
 },
 "nbformat": 4,
 "nbformat_minor": 2
}
